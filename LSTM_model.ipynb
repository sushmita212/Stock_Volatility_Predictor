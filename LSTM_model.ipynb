{
 "cells": [
  {
   "cell_type": "code",
   "execution_count": 1,
   "id": "0da8818c",
   "metadata": {},
   "outputs": [],
   "source": [
    "%load_ext autoreload\n",
    "%autoreload 2"
   ]
  },
  {
   "cell_type": "code",
   "execution_count": 2,
   "id": "294da902",
   "metadata": {},
   "outputs": [],
   "source": [
    "import warnings\n",
    "warnings.filterwarnings(\"ignore\")"
   ]
  },
  {
   "cell_type": "code",
   "execution_count": 3,
   "id": "924239ab",
   "metadata": {},
   "outputs": [],
   "source": [
    "import pandas as pd\n",
    "from data import stock_data\n",
    "import sqlite3\n",
    "import numpy as np\n",
    "import matplotlib.pyplot as plt\n",
    "from arch import arch_model\n",
    "from sklearn.metrics import r2_score, mean_absolute_error, mean_squared_error\n",
    "from sklearn.preprocessing import MinMaxScaler, StandardScaler\n",
    "from scipy.stats import spearmanr\n",
    "from sklearn.feature_selection import mutual_info_regression"
   ]
  },
  {
   "cell_type": "code",
   "execution_count": 4,
   "id": "2590d61c",
   "metadata": {},
   "outputs": [],
   "source": [
    "con = sqlite3.connect(\"stock_data.db\", check_same_thread=False)"
   ]
  },
  {
   "cell_type": "code",
   "execution_count": 5,
   "id": "82979fa4",
   "metadata": {},
   "outputs": [],
   "source": [
    "sql = \"SELECT * FROM IBM\""
   ]
  },
  {
   "cell_type": "code",
   "execution_count": 6,
   "id": "80a0e63b",
   "metadata": {},
   "outputs": [],
   "source": [
    "df = pd.read_sql(sql, con, parse_dates=\"data\", index_col=\"date\")"
   ]
  },
  {
   "cell_type": "code",
   "execution_count": 7,
   "id": "5854aa5a",
   "metadata": {},
   "outputs": [
    {
     "data": {
      "text/html": [
       "<div>\n",
       "<style scoped>\n",
       "    .dataframe tbody tr th:only-of-type {\n",
       "        vertical-align: middle;\n",
       "    }\n",
       "\n",
       "    .dataframe tbody tr th {\n",
       "        vertical-align: top;\n",
       "    }\n",
       "\n",
       "    .dataframe thead th {\n",
       "        text-align: right;\n",
       "    }\n",
       "</style>\n",
       "<table border=\"1\" class=\"dataframe\">\n",
       "  <thead>\n",
       "    <tr style=\"text-align: right;\">\n",
       "      <th></th>\n",
       "      <th>open</th>\n",
       "      <th>high</th>\n",
       "      <th>low</th>\n",
       "      <th>close</th>\n",
       "      <th>volume</th>\n",
       "    </tr>\n",
       "    <tr>\n",
       "      <th>date</th>\n",
       "      <th></th>\n",
       "      <th></th>\n",
       "      <th></th>\n",
       "      <th></th>\n",
       "      <th></th>\n",
       "    </tr>\n",
       "  </thead>\n",
       "  <tbody>\n",
       "    <tr>\n",
       "      <th>2024-11-18T00:00:00</th>\n",
       "      <td>207.00</td>\n",
       "      <td>208.4150</td>\n",
       "      <td>205.3701</td>\n",
       "      <td>208.09</td>\n",
       "      <td>3406045.0</td>\n",
       "    </tr>\n",
       "    <tr>\n",
       "      <th>2024-11-15T00:00:00</th>\n",
       "      <td>207.46</td>\n",
       "      <td>208.4900</td>\n",
       "      <td>204.0700</td>\n",
       "      <td>204.99</td>\n",
       "      <td>3986460.0</td>\n",
       "    </tr>\n",
       "    <tr>\n",
       "      <th>2024-11-14T00:00:00</th>\n",
       "      <td>210.00</td>\n",
       "      <td>210.4999</td>\n",
       "      <td>206.3500</td>\n",
       "      <td>208.99</td>\n",
       "      <td>6372853.0</td>\n",
       "    </tr>\n",
       "    <tr>\n",
       "      <th>2024-11-13T00:00:00</th>\n",
       "      <td>209.50</td>\n",
       "      <td>211.4100</td>\n",
       "      <td>209.0701</td>\n",
       "      <td>210.92</td>\n",
       "      <td>3247830.0</td>\n",
       "    </tr>\n",
       "    <tr>\n",
       "      <th>2024-11-12T00:00:00</th>\n",
       "      <td>211.90</td>\n",
       "      <td>213.0300</td>\n",
       "      <td>209.0600</td>\n",
       "      <td>210.86</td>\n",
       "      <td>2818216.0</td>\n",
       "    </tr>\n",
       "  </tbody>\n",
       "</table>\n",
       "</div>"
      ],
      "text/plain": [
       "                       open      high       low   close     volume\n",
       "date                                                              \n",
       "2024-11-18T00:00:00  207.00  208.4150  205.3701  208.09  3406045.0\n",
       "2024-11-15T00:00:00  207.46  208.4900  204.0700  204.99  3986460.0\n",
       "2024-11-14T00:00:00  210.00  210.4999  206.3500  208.99  6372853.0\n",
       "2024-11-13T00:00:00  209.50  211.4100  209.0701  210.92  3247830.0\n",
       "2024-11-12T00:00:00  211.90  213.0300  209.0600  210.86  2818216.0"
      ]
     },
     "execution_count": 7,
     "metadata": {},
     "output_type": "execute_result"
    }
   ],
   "source": [
    "df.head()"
   ]
  },
  {
   "cell_type": "code",
   "execution_count": 8,
   "id": "8b133564",
   "metadata": {},
   "outputs": [],
   "source": [
    "# set index type to datetime index\n",
    "df.index = pd.to_datetime(df.index, format='ISO8601')\n",
    "df.sort_index(inplace=True)"
   ]
  },
  {
   "cell_type": "code",
   "execution_count": 9,
   "id": "3fdfd32f",
   "metadata": {},
   "outputs": [
    {
     "data": {
      "text/html": [
       "<div>\n",
       "<style scoped>\n",
       "    .dataframe tbody tr th:only-of-type {\n",
       "        vertical-align: middle;\n",
       "    }\n",
       "\n",
       "    .dataframe tbody tr th {\n",
       "        vertical-align: top;\n",
       "    }\n",
       "\n",
       "    .dataframe thead th {\n",
       "        text-align: right;\n",
       "    }\n",
       "</style>\n",
       "<table border=\"1\" class=\"dataframe\">\n",
       "  <thead>\n",
       "    <tr style=\"text-align: right;\">\n",
       "      <th></th>\n",
       "      <th>open</th>\n",
       "      <th>high</th>\n",
       "      <th>low</th>\n",
       "      <th>close</th>\n",
       "      <th>volume</th>\n",
       "    </tr>\n",
       "    <tr>\n",
       "      <th>date</th>\n",
       "      <th></th>\n",
       "      <th></th>\n",
       "      <th></th>\n",
       "      <th></th>\n",
       "      <th></th>\n",
       "    </tr>\n",
       "  </thead>\n",
       "  <tbody>\n",
       "    <tr>\n",
       "      <th>1999-11-01</th>\n",
       "      <td>98.50</td>\n",
       "      <td>98.81</td>\n",
       "      <td>96.37</td>\n",
       "      <td>96.75</td>\n",
       "      <td>9551800.0</td>\n",
       "    </tr>\n",
       "    <tr>\n",
       "      <th>1999-11-02</th>\n",
       "      <td>96.75</td>\n",
       "      <td>96.81</td>\n",
       "      <td>93.69</td>\n",
       "      <td>94.81</td>\n",
       "      <td>11105400.0</td>\n",
       "    </tr>\n",
       "    <tr>\n",
       "      <th>1999-11-03</th>\n",
       "      <td>95.87</td>\n",
       "      <td>95.94</td>\n",
       "      <td>93.50</td>\n",
       "      <td>94.37</td>\n",
       "      <td>10369100.0</td>\n",
       "    </tr>\n",
       "    <tr>\n",
       "      <th>1999-11-04</th>\n",
       "      <td>94.44</td>\n",
       "      <td>94.44</td>\n",
       "      <td>90.00</td>\n",
       "      <td>91.56</td>\n",
       "      <td>16697600.0</td>\n",
       "    </tr>\n",
       "    <tr>\n",
       "      <th>1999-11-05</th>\n",
       "      <td>92.75</td>\n",
       "      <td>92.94</td>\n",
       "      <td>90.19</td>\n",
       "      <td>90.25</td>\n",
       "      <td>13737600.0</td>\n",
       "    </tr>\n",
       "  </tbody>\n",
       "</table>\n",
       "</div>"
      ],
      "text/plain": [
       "             open   high    low  close      volume\n",
       "date                                              \n",
       "1999-11-01  98.50  98.81  96.37  96.75   9551800.0\n",
       "1999-11-02  96.75  96.81  93.69  94.81  11105400.0\n",
       "1999-11-03  95.87  95.94  93.50  94.37  10369100.0\n",
       "1999-11-04  94.44  94.44  90.00  91.56  16697600.0\n",
       "1999-11-05  92.75  92.94  90.19  90.25  13737600.0"
      ]
     },
     "execution_count": 9,
     "metadata": {},
     "output_type": "execute_result"
    }
   ],
   "source": [
    "df.head()"
   ]
  },
  {
   "cell_type": "markdown",
   "id": "21ca6a93",
   "metadata": {},
   "source": [
    "# Feature engineering"
   ]
  },
  {
   "cell_type": "markdown",
   "id": "eee2e6c9",
   "metadata": {},
   "source": [
    "### Price-based features"
   ]
  },
  {
   "cell_type": "code",
   "execution_count": 10,
   "id": "b6c04eea",
   "metadata": {},
   "outputs": [],
   "source": [
    "df['log_returns'] = np.log(df['close'] / df['close'].shift(1))\n",
    "df['price_change_pct'] = df['close'].pct_change()\n",
    "\n",
    "price_grp =['log_returns','price_change_pct']"
   ]
  },
  {
   "cell_type": "markdown",
   "id": "fa66df7b",
   "metadata": {},
   "source": [
    "### Volume-based features"
   ]
  },
  {
   "cell_type": "code",
   "execution_count": 11,
   "id": "29b629a6",
   "metadata": {},
   "outputs": [],
   "source": [
    "df['log_volume_change'] = np.log(df[\"volume\"])-np.log(df[\"volume\"].shift(1))\n",
    "df['volume_change_pct'] = df['volume'].pct_change()\n",
    "df['normalized_volume'] = (df['volume'] - df['volume'].mean()) / df['volume'].std()\n",
    "df['VMA_14'] = df['volume'].rolling(window=14).mean()\n",
    "df['volume_std'] = df['volume'].rolling(window=14).std()\n",
    "\n",
    "volume_grp =['log_volume_change','volume_change_pct','normalized_volume']\n",
    "rolling_volume_grp = ['VMA_14','volume_std']"
   ]
  },
  {
   "cell_type": "markdown",
   "id": "95a6a036",
   "metadata": {},
   "source": [
    "### Trading range"
   ]
  },
  {
   "cell_type": "code",
   "execution_count": 12,
   "id": "ab0fba1f",
   "metadata": {},
   "outputs": [],
   "source": [
    "df[\"log_trading_range\"] = np.log(df[\"high\"])-np.log(df[\"low\"])\n",
    "\n",
    "# Calculate True Range (TR)\n",
    "df['TR'] = pd.concat([\n",
    "    df['high'] - df['low'],\n",
    "    abs(df['high'] - df['close'].shift(1)),\n",
    "    abs(df['low'] - df['close'].shift(1))\n",
    "], axis=1).max(axis=1)\n",
    "\n",
    "# Calculate the ATR (14-period SMA of TR)\n",
    "df['ATR_14'] = df['TR'].rolling(window=14).mean()\n",
    "\n",
    "TR_grp =['log_trading_range','TR','ATR_14']"
   ]
  },
  {
   "cell_type": "markdown",
   "id": "dea078bb",
   "metadata": {},
   "source": [
    "### Technical indicators/ Rolling Statistics"
   ]
  },
  {
   "cell_type": "code",
   "execution_count": 13,
   "id": "a9d9bfa9",
   "metadata": {},
   "outputs": [],
   "source": [
    "# Moving averages\n",
    "MA_grp = []\n",
    "for period in [5, 10, 20, 50]:\n",
    "        df[f'MA_{period}'] = df['close'].rolling(window=period).mean()\n",
    "        MA_grp.append(f'MA_{period}')"
   ]
  },
  {
   "cell_type": "code",
   "execution_count": 14,
   "id": "171ed562",
   "metadata": {},
   "outputs": [],
   "source": [
    "# RSI\n",
    "def calculate_rsi(data, period=14):\n",
    "    \"\"\"\n",
    "    Calculates the RSI for a given pandas Series or DataFrame.\n",
    "    \"\"\"\n",
    "\n",
    "    # Calculate price changes\n",
    "    delta = data.diff()\n",
    "\n",
    "    # Separate gains and losses\n",
    "    gain = delta.where(delta > 0, 0)\n",
    "    loss = -delta.where(delta < 0, 0)\n",
    "\n",
    "    # Calculate average gain and loss using a rolling window\n",
    "    avg_gain = gain.rolling(window=period).mean()\n",
    "    avg_loss = loss.rolling(window=period).mean()\n",
    "\n",
    "    # Calculate relative strength\n",
    "    rs = avg_gain / avg_loss\n",
    "\n",
    "    # Calculate RSI\n",
    "    rsi = 100 - (100 / (1 + rs))\n",
    "\n",
    "    return rsi\n",
    "df['RSI'] = calculate_rsi(df['close'])\n",
    "RSI_grp =['RSI']"
   ]
  },
  {
   "cell_type": "code",
   "execution_count": 15,
   "id": "aaad8c75",
   "metadata": {},
   "outputs": [],
   "source": [
    "# Bollinger bands\n",
    "# Calculate the 20-period Simple Moving Average (SMA)\n",
    "df['BB_middle'] = df['close'].rolling(window=20).mean()\n",
    "\n",
    "# Calculate the 20-period Standard Deviation (SD)\n",
    "BB_std = df['close'].rolling(window=20).std()\n",
    "\n",
    "# Calculate the Upper Bollinger Band (UB) and Lower Bollinger Band (LB)\n",
    "df['BB_upper'] = df['BB_middle'] + 2 * BB_std\n",
    "df['BB_lower'] = df['BB_middle'] - 2 * BB_std\n",
    "\n",
    "BB_grp = ['BB_upper', 'BB_middle', 'BB_lower']"
   ]
  },
  {
   "cell_type": "code",
   "execution_count": 16,
   "id": "83607613",
   "metadata": {},
   "outputs": [],
   "source": [
    "# Moving Average Convergence Divergence MACD\n",
    "# Calculate the 12-day and 26-day EMA\n",
    "EMA_12 = df['close'].ewm(span=12, adjust=False).mean()\n",
    "EMA_26 = df['close'].ewm(span=26, adjust=False).mean()\n",
    "\n",
    "# Calculate the MACD Line\n",
    "df['MACD'] = EMA_12 - EMA_26\n",
    "\n",
    "# Calculate the Signal Line (9-day EMA of MACD)\n",
    "df['MACD_signal'] = df['MACD'].ewm(span=9, adjust=False).mean()\n",
    "\n",
    "# Calculate the MACD Histogram\n",
    "df['MACD_hist'] = df['MACD'] - df['MACD_signal']\n",
    "\n",
    "MACD_grp = ['MACD','MACD_signal', 'MACD_hist']"
   ]
  },
  {
   "cell_type": "markdown",
   "id": "220b39e9",
   "metadata": {},
   "source": [
    "### Lagged features"
   ]
  },
  {
   "cell_type": "code",
   "execution_count": 17,
   "id": "752e2fec",
   "metadata": {},
   "outputs": [],
   "source": [
    "# Volume Lagged features\n",
    "volume_lag_grp = []\n",
    "for feature in ['log_volume_change','volume_change_pct','normalized_volume']:\n",
    "        for lag in [1, 2, 3]:\n",
    "            df[f'{feature}_lag_{lag}'] = df[feature].shift(lag)\n",
    "            volume_lag_grp.append(f'{feature}_lag_{lag}')\n",
    "            "
   ]
  },
  {
   "cell_type": "code",
   "execution_count": 18,
   "id": "d05959df",
   "metadata": {},
   "outputs": [],
   "source": [
    "# Price Lagged features\n",
    "price_lag_grp = []\n",
    "for feature in ['log_returns','price_change_pct','normalized_volume']:\n",
    "        for lag in [1, 2, 3]:\n",
    "            df[f'{feature}_lag_{lag}'] = df[feature].shift(lag)\n",
    "            price_lag_grp.append(f'{feature}_lag_{lag}')\n",
    "            "
   ]
  },
  {
   "cell_type": "markdown",
   "id": "6fd2048d",
   "metadata": {},
   "source": [
    "### Rolling volatility/ Target"
   ]
  },
  {
   "cell_type": "code",
   "execution_count": 19,
   "id": "7e7c4441",
   "metadata": {},
   "outputs": [],
   "source": [
    "df[\"rolling_volatility\"] = df[\"log_returns\"].rolling(window=14).std()"
   ]
  },
  {
   "cell_type": "code",
   "execution_count": 20,
   "id": "c7e3a10c",
   "metadata": {},
   "outputs": [],
   "source": [
    "df.dropna(inplace=True)"
   ]
  },
  {
   "cell_type": "markdown",
   "id": "5d96760e",
   "metadata": {},
   "source": [
    "## Features and Target"
   ]
  },
  {
   "cell_type": "code",
   "execution_count": 21,
   "id": "bdb1f768",
   "metadata": {},
   "outputs": [],
   "source": [
    "df = df.drop(columns=['open', 'high', 'low', 'close', 'volume'])"
   ]
  },
  {
   "cell_type": "code",
   "execution_count": 22,
   "id": "6e40f9d9",
   "metadata": {},
   "outputs": [
    {
     "data": {
      "text/plain": [
       "Index(['log_returns', 'price_change_pct', 'log_volume_change',\n",
       "       'volume_change_pct', 'normalized_volume', 'VMA_14', 'volume_std',\n",
       "       'log_trading_range', 'TR', 'ATR_14', 'MA_5', 'MA_10', 'MA_20', 'MA_50',\n",
       "       'RSI', 'BB_middle', 'BB_upper', 'BB_lower', 'MACD', 'MACD_signal',\n",
       "       'MACD_hist', 'log_volume_change_lag_1', 'log_volume_change_lag_2',\n",
       "       'log_volume_change_lag_3', 'volume_change_pct_lag_1',\n",
       "       'volume_change_pct_lag_2', 'volume_change_pct_lag_3',\n",
       "       'normalized_volume_lag_1', 'normalized_volume_lag_2',\n",
       "       'normalized_volume_lag_3', 'log_returns_lag_1', 'log_returns_lag_2',\n",
       "       'log_returns_lag_3', 'price_change_pct_lag_1', 'price_change_pct_lag_2',\n",
       "       'price_change_pct_lag_3', 'rolling_volatility'],\n",
       "      dtype='object')"
      ]
     },
     "execution_count": 22,
     "metadata": {},
     "output_type": "execute_result"
    }
   ],
   "source": [
    "features = df.columns\n",
    "features"
   ]
  },
  {
   "cell_type": "code",
   "execution_count": 23,
   "id": "5dc46e3c",
   "metadata": {},
   "outputs": [],
   "source": [
    "target = df['rolling_volatility']"
   ]
  },
  {
   "cell_type": "markdown",
   "id": "d8ac6d45",
   "metadata": {},
   "source": [
    "# Feature selection"
   ]
  },
  {
   "cell_type": "markdown",
   "id": "229d8f8b",
   "metadata": {},
   "source": [
    "### Correlation with target"
   ]
  },
  {
   "cell_type": "code",
   "execution_count": 24,
   "id": "080779ac",
   "metadata": {},
   "outputs": [],
   "source": [
    "def corr_with_target(feature_grp):\n",
    "    correlations = {}\n",
    "    for column in feature_grp:\n",
    "        corr, _ = spearmanr(df[column], target)\n",
    "        correlations[column] = abs(corr)\n",
    "    correlations = dict(sorted(correlations.items(), key=lambda item: item[1]))\n",
    "    return correlations"
   ]
  },
  {
   "cell_type": "code",
   "execution_count": 25,
   "id": "f350979a",
   "metadata": {},
   "outputs": [],
   "source": [
    "def mi_scores(feature_grp):\n",
    "    mi_scores = mutual_info_regression(df[feature_grp], target)\n",
    "    mi_scores = dict(zip(df[feature_grp].columns, mi_scores))\n",
    "    mi_scores=dict(sorted(mi_scores.items(), key=lambda item: item[1]))\n",
    "    return mi_scores"
   ]
  },
  {
   "cell_type": "code",
   "execution_count": 26,
   "id": "80d88484",
   "metadata": {},
   "outputs": [],
   "source": [
    "to_drop = []"
   ]
  },
  {
   "cell_type": "code",
   "execution_count": 27,
   "id": "3b2239fc",
   "metadata": {},
   "outputs": [],
   "source": [
    "cor = corr_with_target(price_grp)\n",
    "to_drop.extend(list(cor.keys())[:-1])"
   ]
  },
  {
   "cell_type": "code",
   "execution_count": 28,
   "id": "8082022c",
   "metadata": {},
   "outputs": [],
   "source": [
    "cor = corr_with_target(volume_grp)\n",
    "to_drop.extend(list(cor.keys())[:-1])"
   ]
  },
  {
   "cell_type": "code",
   "execution_count": 29,
   "id": "5f598c99",
   "metadata": {},
   "outputs": [],
   "source": [
    "cor = corr_with_target(rolling_volume_grp)\n",
    "to_drop.extend(list(cor.keys())[:-1])"
   ]
  },
  {
   "cell_type": "code",
   "execution_count": 30,
   "id": "a1f5a08c",
   "metadata": {},
   "outputs": [],
   "source": [
    "cor = corr_with_target(rolling_volume_grp)\n",
    "to_drop.extend(list(cor.keys())[:-1])"
   ]
  },
  {
   "cell_type": "code",
   "execution_count": 31,
   "id": "24491a1f",
   "metadata": {},
   "outputs": [],
   "source": [
    "cor = corr_with_target(TR_grp)\n",
    "to_drop.extend(list(cor.keys())[:-1])"
   ]
  },
  {
   "cell_type": "code",
   "execution_count": 32,
   "id": "8208e7c8",
   "metadata": {},
   "outputs": [],
   "source": [
    "cor = corr_with_target(MA_grp)\n",
    "to_drop.extend(list(cor.keys())[:-1])"
   ]
  },
  {
   "cell_type": "code",
   "execution_count": 33,
   "id": "31d85bf8",
   "metadata": {},
   "outputs": [],
   "source": [
    "cor = corr_with_target(RSI_grp)\n",
    "to_drop.extend(list(cor.keys())[:-1])"
   ]
  },
  {
   "cell_type": "code",
   "execution_count": 34,
   "id": "5c7d75d7",
   "metadata": {},
   "outputs": [],
   "source": [
    "cor = corr_with_target(BB_grp)\n",
    "to_drop.extend(list(cor.keys())[:-1])"
   ]
  },
  {
   "cell_type": "code",
   "execution_count": 35,
   "id": "942891a5",
   "metadata": {},
   "outputs": [],
   "source": [
    "cor = corr_with_target(MACD_grp)\n",
    "to_drop.extend(list(cor.keys())[:-1])"
   ]
  },
  {
   "cell_type": "code",
   "execution_count": 36,
   "id": "a3529c05",
   "metadata": {},
   "outputs": [],
   "source": [
    "cor = corr_with_target(volume_lag_grp)\n",
    "to_drop.extend(list(cor.keys())[:-1])"
   ]
  },
  {
   "cell_type": "code",
   "execution_count": 37,
   "id": "9ef0b323",
   "metadata": {},
   "outputs": [],
   "source": [
    "cor = corr_with_target(price_lag_grp)\n",
    "to_drop.extend(list(cor.keys())[:-1])"
   ]
  },
  {
   "cell_type": "code",
   "execution_count": 38,
   "id": "27a0d092",
   "metadata": {},
   "outputs": [
    {
     "data": {
      "text/plain": [
       "['log_returns',\n",
       " 'log_volume_change',\n",
       " 'volume_change_pct',\n",
       " 'volume_std',\n",
       " 'volume_std',\n",
       " 'TR',\n",
       " 'log_trading_range',\n",
       " 'MA_50',\n",
       " 'MA_20',\n",
       " 'MA_10',\n",
       " 'BB_upper',\n",
       " 'BB_middle',\n",
       " 'MACD_hist',\n",
       " 'MACD',\n",
       " 'log_volume_change_lag_3',\n",
       " 'volume_change_pct_lag_3',\n",
       " 'log_volume_change_lag_2',\n",
       " 'volume_change_pct_lag_2',\n",
       " 'log_volume_change_lag_1',\n",
       " 'volume_change_pct_lag_1',\n",
       " 'normalized_volume_lag_1',\n",
       " 'normalized_volume_lag_2',\n",
       " 'log_returns_lag_2',\n",
       " 'price_change_pct_lag_2',\n",
       " 'log_returns_lag_3',\n",
       " 'price_change_pct_lag_3',\n",
       " 'log_returns_lag_1',\n",
       " 'price_change_pct_lag_1',\n",
       " 'normalized_volume_lag_1',\n",
       " 'normalized_volume_lag_2']"
      ]
     },
     "execution_count": 38,
     "metadata": {},
     "output_type": "execute_result"
    }
   ],
   "source": [
    "to_drop"
   ]
  },
  {
   "cell_type": "code",
   "execution_count": 39,
   "id": "0bde8add",
   "metadata": {},
   "outputs": [],
   "source": [
    "df = df.drop(columns=to_drop)"
   ]
  },
  {
   "cell_type": "markdown",
   "id": "7baa63cb",
   "metadata": {},
   "source": [
    "### Multicolinearity analysis"
   ]
  },
  {
   "cell_type": "code",
   "execution_count": 40,
   "id": "4981cb8e",
   "metadata": {},
   "outputs": [],
   "source": [
    "def remove_correlated_features(df, correlation_threshold=0.8):\n",
    "    correlation_matrix = df.corr().abs()\n",
    "    upper_tri = correlation_matrix.where(np.triu(np.ones(correlation_matrix.shape), k=1).astype(bool))\n",
    "    to_drop = [column for column in upper_tri.columns if any(upper_tri[column] > correlation_threshold)]\n",
    "    return df.drop(columns=to_drop)\n",
    "\n"
   ]
  },
  {
   "cell_type": "code",
   "execution_count": 41,
   "id": "0b61dda6",
   "metadata": {},
   "outputs": [],
   "source": [
    "df = remove_correlated_features(df)"
   ]
  },
  {
   "cell_type": "code",
   "execution_count": 42,
   "id": "7f166272",
   "metadata": {},
   "outputs": [
    {
     "data": {
      "image/png": "[encoded data removed]",
      "text/plain": [
       "<Figure size 1000x800 with 2 Axes>"
      ]
     },
     "metadata": {},
     "output_type": "display_data"
    }
   ],
   "source": [
    "import seaborn as sns\n",
    "import matplotlib.pyplot as plt\n",
    "\n",
    "# Check feature correlations\n",
    "correlation_matrix = df.corr()\n",
    "plt.figure(figsize=(10,8))\n",
    "sns.heatmap(correlation_matrix, annot=True, cmap='coolwarm')\n",
    "plt.title('Feature Correlation Heatmap')\n",
    "plt.show()"
   ]
  },
  {
   "cell_type": "code",
   "execution_count": 43,
   "id": "3d644e50",
   "metadata": {},
   "outputs": [
    {
     "data": {
      "text/html": [
       "<div>\n",
       "<style scoped>\n",
       "    .dataframe tbody tr th:only-of-type {\n",
       "        vertical-align: middle;\n",
       "    }\n",
       "\n",
       "    .dataframe tbody tr th {\n",
       "        vertical-align: top;\n",
       "    }\n",
       "\n",
       "    .dataframe thead th {\n",
       "        text-align: right;\n",
       "    }\n",
       "</style>\n",
       "<table border=\"1\" class=\"dataframe\">\n",
       "  <thead>\n",
       "    <tr style=\"text-align: right;\">\n",
       "      <th></th>\n",
       "      <th>price_change_pct</th>\n",
       "      <th>normalized_volume</th>\n",
       "      <th>VMA_14</th>\n",
       "      <th>ATR_14</th>\n",
       "      <th>MA_5</th>\n",
       "      <th>RSI</th>\n",
       "      <th>MACD_signal</th>\n",
       "      <th>normalized_volume_lag_3</th>\n",
       "      <th>rolling_volatility</th>\n",
       "    </tr>\n",
       "    <tr>\n",
       "      <th>date</th>\n",
       "      <th></th>\n",
       "      <th></th>\n",
       "      <th></th>\n",
       "      <th></th>\n",
       "      <th></th>\n",
       "      <th></th>\n",
       "      <th></th>\n",
       "      <th></th>\n",
       "      <th></th>\n",
       "    </tr>\n",
       "  </thead>\n",
       "  <tbody>\n",
       "    <tr>\n",
       "      <th>2000-01-11</th>\n",
       "      <td>0.008475</td>\n",
       "      <td>0.599835</td>\n",
       "      <td>6.635564e+06</td>\n",
       "      <td>4.212143</td>\n",
       "      <td>116.100</td>\n",
       "      <td>64.859438</td>\n",
       "      <td>2.234557</td>\n",
       "      <td>0.629734</td>\n",
       "      <td>0.027439</td>\n",
       "    </tr>\n",
       "    <tr>\n",
       "      <th>2000-01-12</th>\n",
       "      <td>0.004202</td>\n",
       "      <td>0.275527</td>\n",
       "      <td>6.835436e+06</td>\n",
       "      <td>4.315000</td>\n",
       "      <td>116.800</td>\n",
       "      <td>70.346780</td>\n",
       "      <td>2.392315</td>\n",
       "      <td>1.807737</td>\n",
       "      <td>0.026495</td>\n",
       "    </tr>\n",
       "    <tr>\n",
       "      <th>2000-01-13</th>\n",
       "      <td>-0.010460</td>\n",
       "      <td>0.786748</td>\n",
       "      <td>7.118364e+06</td>\n",
       "      <td>4.515714</td>\n",
       "      <td>117.650</td>\n",
       "      <td>66.666667</td>\n",
       "      <td>2.530511</td>\n",
       "      <td>0.802153</td>\n",
       "      <td>0.026918</td>\n",
       "    </tr>\n",
       "    <tr>\n",
       "      <th>2000-01-14</th>\n",
       "      <td>0.011586</td>\n",
       "      <td>1.534796</td>\n",
       "      <td>7.633786e+06</td>\n",
       "      <td>4.796429</td>\n",
       "      <td>118.874</td>\n",
       "      <td>66.941298</td>\n",
       "      <td>2.665292</td>\n",
       "      <td>0.599835</td>\n",
       "      <td>0.026934</td>\n",
       "    </tr>\n",
       "    <tr>\n",
       "      <th>2000-01-18</th>\n",
       "      <td>-0.032352</td>\n",
       "      <td>0.530273</td>\n",
       "      <td>7.888129e+06</td>\n",
       "      <td>5.015000</td>\n",
       "      <td>118.424</td>\n",
       "      <td>59.016393</td>\n",
       "      <td>2.723048</td>\n",
       "      <td>0.275527</td>\n",
       "      <td>0.028881</td>\n",
       "    </tr>\n",
       "  </tbody>\n",
       "</table>\n",
       "</div>"
      ],
      "text/plain": [
       "            price_change_pct  normalized_volume        VMA_14    ATR_14  \\\n",
       "date                                                                      \n",
       "2000-01-11          0.008475           0.599835  6.635564e+06  4.212143   \n",
       "2000-01-12          0.004202           0.275527  6.835436e+06  4.315000   \n",
       "2000-01-13         -0.010460           0.786748  7.118364e+06  4.515714   \n",
       "2000-01-14          0.011586           1.534796  7.633786e+06  4.796429   \n",
       "2000-01-18         -0.032352           0.530273  7.888129e+06  5.015000   \n",
       "\n",
       "               MA_5        RSI  MACD_signal  normalized_volume_lag_3  \\\n",
       "date                                                                   \n",
       "2000-01-11  116.100  64.859438     2.234557                 0.629734   \n",
       "2000-01-12  116.800  70.346780     2.392315                 1.807737   \n",
       "2000-01-13  117.650  66.666667     2.530511                 0.802153   \n",
       "2000-01-14  118.874  66.941298     2.665292                 0.599835   \n",
       "2000-01-18  118.424  59.016393     2.723048                 0.275527   \n",
       "\n",
       "            rolling_volatility  \n",
       "date                            \n",
       "2000-01-11            0.027439  \n",
       "2000-01-12            0.026495  \n",
       "2000-01-13            0.026918  \n",
       "2000-01-14            0.026934  \n",
       "2000-01-18            0.028881  "
      ]
     },
     "execution_count": 43,
     "metadata": {},
     "output_type": "execute_result"
    }
   ],
   "source": [
    "df.head()"
   ]
  },
  {
   "cell_type": "code",
   "execution_count": 44,
   "id": "301f82f4",
   "metadata": {},
   "outputs": [
    {
     "data": {
      "text/plain": [
       "date\n",
       "2000-01-11    0.027439\n",
       "2000-01-12    0.026495\n",
       "2000-01-13    0.026918\n",
       "2000-01-14    0.026934\n",
       "2000-01-18    0.028881\n",
       "                ...   \n",
       "2024-11-12    0.021136\n",
       "2024-11-13    0.013481\n",
       "2024-11-14    0.012971\n",
       "2024-11-15    0.013704\n",
       "2024-11-18    0.014205\n",
       "Name: rolling_volatility, Length: 6254, dtype: float64"
      ]
     },
     "execution_count": 44,
     "metadata": {},
     "output_type": "execute_result"
    }
   ],
   "source": [
    "target"
   ]
  },
  {
   "cell_type": "markdown",
   "id": "c7982ec2",
   "metadata": {},
   "source": [
    "# LSTM model"
   ]
  },
  {
   "cell_type": "code",
   "execution_count": 45,
   "id": "c0b5117d",
   "metadata": {},
   "outputs": [],
   "source": [
    "from tensorflow.keras.models import Sequential\n",
    "from tensorflow.keras.layers import LSTM, Dense\n",
    "from tensorflow import keras\n",
    "import tensorflow as tf\n",
    "from tensorflow.keras.callbacks import EarlyStopping\n",
    "from tensorflow.keras import backend as k\n",
    "import os\n",
    "import random"
   ]
  },
  {
   "cell_type": "markdown",
   "id": "ebe2d62d",
   "metadata": {},
   "source": [
    "## Set seed for reproducible results"
   ]
  },
  {
   "cell_type": "code",
   "execution_count": 46,
   "id": "6c4f8000",
   "metadata": {
    "scrolled": true
   },
   "outputs": [],
   "source": [
    "# import random\n",
    "# import numpy as np\n",
    "# import tensorflow as tf\n",
    "\n",
    "seed_value = 13\n",
    "\n",
    "# Set random seeds\n",
    "random.seed(seed_value)\n",
    "np.random.seed(seed_value)\n",
    "tf.random.set_seed(seed_value)\n",
    "\n",
    "# # Optionally force deterministic behavior (if using GPUs)\n",
    "# import os\n",
    "# os.environ[\"CUDA_VISIBLE_DEVICES\"] = \"-1\"  # Disable GPU for deterministic behavior\n",
    "\n",
    "# Optional: Ensure deterministic operations in TensorFlow\n",
    "tf.config.experimental.enable_op_determinism()\n"
   ]
  },
  {
   "cell_type": "markdown",
   "id": "a537af40",
   "metadata": {},
   "source": [
    "## Train-test split"
   ]
  },
  {
   "cell_type": "code",
   "execution_count": 47,
   "id": "0361a85d",
   "metadata": {},
   "outputs": [],
   "source": [
    "cut_off = int(len(df)*0.8)\n",
    "df_train = df[:cut_off]\n",
    "df_test = df[cut_off:]"
   ]
  },
  {
   "cell_type": "code",
   "execution_count": 48,
   "id": "b358bfc9",
   "metadata": {},
   "outputs": [],
   "source": [
    "# Function to create LSTM dataset\n",
    "def create_lstm_dataset(dataset, time_steps=4):\n",
    "#     features = dataset.columns\n",
    "    \n",
    "#     Normalize the features\n",
    "    scaler = StandardScaler()\n",
    "    scaled_data = scaler.fit_transform(df)\n",
    "    \n",
    "    X, y = [], []\n",
    "    \n",
    "    # Create sliding window\n",
    "    for i in range(len(scaled_data) - time_steps):\n",
    "        # X: Input sequence of time_steps\n",
    "        X.append(scaled_data[i:i+time_steps])\n",
    "        \n",
    "        # y: Next time step's closing price\n",
    "        y.append(scaled_data[i+time_steps][-1]) \n",
    "        \n",
    "    \n",
    "    return np.array(X), np.array(y), scaler"
   ]
  },
  {
   "cell_type": "code",
   "execution_count": 49,
   "id": "a52c7d5e",
   "metadata": {},
   "outputs": [],
   "source": [
    "# Generate training data\n",
    "time_steps = 7\n",
    "X_train, y_train, scaler = create_lstm_dataset(df_train, time_steps=time_steps)"
   ]
  },
  {
   "cell_type": "code",
   "execution_count": 50,
   "id": "b8f74101",
   "metadata": {},
   "outputs": [
    {
     "data": {
      "text/plain": [
       "9"
      ]
     },
     "execution_count": 50,
     "metadata": {},
     "output_type": "execute_result"
    }
   ],
   "source": [
    "# Get the number of features\n",
    "data_dim = X_train.shape[2]\n",
    "data_dim"
   ]
  },
  {
   "cell_type": "code",
   "execution_count": 51,
   "id": "29fdec21",
   "metadata": {},
   "outputs": [],
   "source": [
    "# Build the LSTM model\n",
    "model = Sequential([\n",
    "    LSTM(units=100, input_shape=(time_steps, data_dim)),\n",
    "    Dense(units=1)\n",
    "])"
   ]
  },
  {
   "cell_type": "code",
   "execution_count": 52,
   "id": "69182cf0",
   "metadata": {},
   "outputs": [],
   "source": [
    "# Compile the model\n",
    "model.compile(optimizer=tf.keras.optimizers.Adam(\n",
    "        learning_rate=0.001), loss='mean_squared_error', metrics=[tf.keras.metrics.RootMeanSquaredError()])"
   ]
  },
  {
   "cell_type": "code",
   "execution_count": 53,
   "id": "9e06d63e",
   "metadata": {},
   "outputs": [],
   "source": [
    "early_stopping = EarlyStopping(\n",
    "    monitor='val_loss',     # Monitor validation loss\n",
    "    patience=5,            # Number of epochs with no improvement\n",
    "    min_delta=0.001,        # Minimum change to qualify as an improvement\n",
    "    restore_best_weights=True  # Restore model weights from best epoch\n",
    ")"
   ]
  },
  {
   "cell_type": "code",
   "execution_count": 54,
   "id": "52f18f8b",
   "metadata": {},
   "outputs": [
    {
     "name": "stdout",
     "output_type": "stream",
     "text": [
      "Epoch 1/100\n"
     ]
    },
    {
     "name": "stderr",
     "output_type": "stream",
     "text": [
      "2025-01-04 13:06:35.804393: E tensorflow/core/framework/node_def_util.cc:676] NodeDef mentions attribute use_unbounded_threadpool which is not in the op definition: Op<name=MapDataset; signature=input_dataset:variant, other_arguments: -> handle:variant; attr=f:func; attr=Targuments:list(type),min=0; attr=output_types:list(type),min=1; attr=output_shapes:list(shape),min=1; attr=use_inter_op_parallelism:bool,default=true; attr=preserve_cardinality:bool,default=false; attr=force_synchronous:bool,default=false; attr=metadata:string,default=\"\"> This may be expected if your graph generating binary is newer  than this binary. Unknown attributes will be ignored. NodeDef: {{node ParallelMapDatasetV2/_15}}\n",
      "2025-01-04 13:06:35.804635: E tensorflow/core/framework/node_def_util.cc:676] NodeDef mentions attribute use_unbounded_threadpool which is not in the op definition: Op<name=MapDataset; signature=input_dataset:variant, other_arguments: -> handle:variant; attr=f:func; attr=Targuments:list(type),min=0; attr=output_types:list(type),min=1; attr=output_shapes:list(shape),min=1; attr=use_inter_op_parallelism:bool,default=true; attr=preserve_cardinality:bool,default=false; attr=force_synchronous:bool,default=false; attr=metadata:string,default=\"\"> This may be expected if your graph generating binary is newer  than this binary. Unknown attributes will be ignored. NodeDef: {{node ParallelMapDatasetV2/_15}}\n"
     ]
    },
    {
     "name": "stdout",
     "output_type": "stream",
     "text": [
      "\u001b[1m137/137\u001b[0m \u001b[32m━━━━━━━━━━━━━━━━━━━━\u001b[0m\u001b[37m\u001b[0m \u001b[1m1s\u001b[0m 3ms/step - loss: 0.9015 - root_mean_squared_error: 0.8948 - val_loss: 0.2040 - val_root_mean_squared_error: 0.4517\n",
      "Epoch 2/100\n",
      "\u001b[1m137/137\u001b[0m \u001b[32m━━━━━━━━━━━━━━━━━━━━\u001b[0m\u001b[37m\u001b[0m \u001b[1m0s\u001b[0m 2ms/step - loss: 0.1852 - root_mean_squared_error: 0.4223 - val_loss: 0.1548 - val_root_mean_squared_error: 0.3934\n",
      "Epoch 3/100\n",
      "\u001b[1m137/137\u001b[0m \u001b[32m━━━━━━━━━━━━━━━━━━━━\u001b[0m\u001b[37m\u001b[0m \u001b[1m0s\u001b[0m 3ms/step - loss: 0.1393 - root_mean_squared_error: 0.3656 - val_loss: 0.1114 - val_root_mean_squared_error: 0.3338\n",
      "Epoch 4/100\n",
      "\u001b[1m137/137\u001b[0m \u001b[32m━━━━━━━━━━━━━━━━━━━━\u001b[0m\u001b[37m\u001b[0m \u001b[1m0s\u001b[0m 2ms/step - loss: 0.0992 - root_mean_squared_error: 0.3094 - val_loss: 0.0865 - val_root_mean_squared_error: 0.2941\n",
      "Epoch 5/100\n",
      "\u001b[1m137/137\u001b[0m \u001b[32m━━━━━━━━━━━━━━━━━━━━\u001b[0m\u001b[37m\u001b[0m \u001b[1m1s\u001b[0m 4ms/step - loss: 0.0802 - root_mean_squared_error: 0.2785 - val_loss: 0.0775 - val_root_mean_squared_error: 0.2783\n",
      "Epoch 6/100\n",
      "\u001b[1m137/137\u001b[0m \u001b[32m━━━━━━━━━━━━━━━━━━━━\u001b[0m\u001b[37m\u001b[0m \u001b[1m0s\u001b[0m 3ms/step - loss: 0.0742 - root_mean_squared_error: 0.2679 - val_loss: 0.0713 - val_root_mean_squared_error: 0.2670\n",
      "Epoch 7/100\n",
      "\u001b[1m137/137\u001b[0m \u001b[32m━━━━━━━━━━━━━━━━━━━━\u001b[0m\u001b[37m\u001b[0m \u001b[1m0s\u001b[0m 2ms/step - loss: 0.0689 - root_mean_squared_error: 0.2581 - val_loss: 0.0659 - val_root_mean_squared_error: 0.2568\n",
      "Epoch 8/100\n",
      "\u001b[1m137/137\u001b[0m \u001b[32m━━━━━━━━━━━━━━━━━━━━\u001b[0m\u001b[37m\u001b[0m \u001b[1m0s\u001b[0m 2ms/step - loss: 0.0662 - root_mean_squared_error: 0.2534 - val_loss: 0.0635 - val_root_mean_squared_error: 0.2519\n",
      "Epoch 9/100\n",
      "\u001b[1m137/137\u001b[0m \u001b[32m━━━━━━━━━━━━━━━━━━━━\u001b[0m\u001b[37m\u001b[0m \u001b[1m0s\u001b[0m 2ms/step - loss: 0.0649 - root_mean_squared_error: 0.2513 - val_loss: 0.0617 - val_root_mean_squared_error: 0.2485\n",
      "Epoch 10/100\n",
      "\u001b[1m137/137\u001b[0m \u001b[32m━━━━━━━━━━━━━━━━━━━━\u001b[0m\u001b[37m\u001b[0m \u001b[1m0s\u001b[0m 2ms/step - loss: 0.0613 - root_mean_squared_error: 0.2443 - val_loss: 0.0597 - val_root_mean_squared_error: 0.2444\n",
      "Epoch 11/100\n",
      "\u001b[1m137/137\u001b[0m \u001b[32m━━━━━━━━━━━━━━━━━━━━\u001b[0m\u001b[37m\u001b[0m \u001b[1m0s\u001b[0m 2ms/step - loss: 0.0588 - root_mean_squared_error: 0.2391 - val_loss: 0.0585 - val_root_mean_squared_error: 0.2419\n",
      "Epoch 12/100\n",
      "\u001b[1m137/137\u001b[0m \u001b[32m━━━━━━━━━━━━━━━━━━━━\u001b[0m\u001b[37m\u001b[0m \u001b[1m0s\u001b[0m 2ms/step - loss: 0.0566 - root_mean_squared_error: 0.2347 - val_loss: 0.0572 - val_root_mean_squared_error: 0.2391\n",
      "Epoch 13/100\n",
      "\u001b[1m137/137\u001b[0m \u001b[32m━━━━━━━━━━━━━━━━━━━━\u001b[0m\u001b[37m\u001b[0m \u001b[1m0s\u001b[0m 3ms/step - loss: 0.0542 - root_mean_squared_error: 0.2296 - val_loss: 0.0559 - val_root_mean_squared_error: 0.2365\n",
      "Epoch 14/100\n",
      "\u001b[1m137/137\u001b[0m \u001b[32m━━━━━━━━━━━━━━━━━━━━\u001b[0m\u001b[37m\u001b[0m \u001b[1m0s\u001b[0m 3ms/step - loss: 0.0521 - root_mean_squared_error: 0.2252 - val_loss: 0.0551 - val_root_mean_squared_error: 0.2348\n",
      "Epoch 15/100\n",
      "\u001b[1m137/137\u001b[0m \u001b[32m━━━━━━━━━━━━━━━━━━━━\u001b[0m\u001b[37m\u001b[0m \u001b[1m0s\u001b[0m 2ms/step - loss: 0.0507 - root_mean_squared_error: 0.2220 - val_loss: 0.0547 - val_root_mean_squared_error: 0.2340\n",
      "Epoch 16/100\n",
      "\u001b[1m137/137\u001b[0m \u001b[32m━━━━━━━━━━━━━━━━━━━━\u001b[0m\u001b[37m\u001b[0m \u001b[1m0s\u001b[0m 2ms/step - loss: 0.0497 - root_mean_squared_error: 0.2199 - val_loss: 0.0546 - val_root_mean_squared_error: 0.2337\n",
      "Epoch 17/100\n",
      "\u001b[1m137/137\u001b[0m \u001b[32m━━━━━━━━━━━━━━━━━━━━\u001b[0m\u001b[37m\u001b[0m \u001b[1m0s\u001b[0m 2ms/step - loss: 0.0490 - root_mean_squared_error: 0.2185 - val_loss: 0.0546 - val_root_mean_squared_error: 0.2337\n",
      "Epoch 18/100\n",
      "\u001b[1m137/137\u001b[0m \u001b[32m━━━━━━━━━━━━━━━━━━━━\u001b[0m\u001b[37m\u001b[0m \u001b[1m0s\u001b[0m 2ms/step - loss: 0.0483 - root_mean_squared_error: 0.2171 - val_loss: 0.0545 - val_root_mean_squared_error: 0.2333\n",
      "Epoch 19/100\n",
      "\u001b[1m137/137\u001b[0m \u001b[32m━━━━━━━━━━━━━━━━━━━━\u001b[0m\u001b[37m\u001b[0m \u001b[1m0s\u001b[0m 2ms/step - loss: 0.0474 - root_mean_squared_error: 0.2151 - val_loss: 0.0543 - val_root_mean_squared_error: 0.2330\n",
      "Epoch 20/100\n",
      "\u001b[1m137/137\u001b[0m \u001b[32m━━━━━━━━━━━━━━━━━━━━\u001b[0m\u001b[37m\u001b[0m \u001b[1m0s\u001b[0m 2ms/step - loss: 0.0464 - root_mean_squared_error: 0.2128 - val_loss: 0.0547 - val_root_mean_squared_error: 0.2339\n"
     ]
    }
   ],
   "source": [
    "# Train the model\n",
    "history = model.fit(\n",
    "    X_train, y_train, \n",
    "    epochs=100,\n",
    "    validation_split=0.3,\n",
    "    batch_size=32, \n",
    "    verbose=1,\n",
    "    shuffle=False,\n",
    "    callbacks=[early_stopping]\n",
    ")"
   ]
  },
  {
   "cell_type": "code",
   "execution_count": 55,
   "id": "046180f1",
   "metadata": {},
   "outputs": [
    {
     "data": {
      "image/png": "[encoded data removed]",
      "text/plain": [
       "<Figure size 1000x500 with 1 Axes>"
      ]
     },
     "metadata": {},
     "output_type": "display_data"
    }
   ],
   "source": [
    "# Optional: Plot training history\n",
    "import matplotlib.pyplot as plt\n",
    "\n",
    "plt.figure(figsize=(10,5))\n",
    "plt.plot(history.history['loss'], label='Training Loss')\n",
    "plt.plot(history.history['val_loss'], label='Validation Loss')\n",
    "plt.title('Model Loss')\n",
    "plt.xlabel('Epoch')\n",
    "plt.ylabel('Loss')\n",
    "plt.legend()\n",
    "plt.show()"
   ]
  },
  {
   "cell_type": "code",
   "execution_count": 56,
   "id": "05fedf45",
   "metadata": {},
   "outputs": [],
   "source": [
    "# Generate testdata\n",
    "# time_steps = 4\n",
    "X_test, y_test, scaler = create_lstm_dataset(df_test, time_steps=time_steps)"
   ]
  },
  {
   "cell_type": "code",
   "execution_count": 57,
   "id": "ab679323",
   "metadata": {},
   "outputs": [
    {
     "name": "stdout",
     "output_type": "stream",
     "text": [
      "\u001b[1m146/196\u001b[0m \u001b[32m━━━━━━━━━━━━━━\u001b[0m\u001b[37m━━━━━━\u001b[0m \u001b[1m0s\u001b[0m 694us/step"
     ]
    },
    {
     "name": "stderr",
     "output_type": "stream",
     "text": [
      "2025-01-04 13:06:43.417788: E tensorflow/core/framework/node_def_util.cc:676] NodeDef mentions attribute use_unbounded_threadpool which is not in the op definition: Op<name=MapDataset; signature=input_dataset:variant, other_arguments: -> handle:variant; attr=f:func; attr=Targuments:list(type),min=0; attr=output_types:list(type),min=1; attr=output_shapes:list(shape),min=1; attr=use_inter_op_parallelism:bool,default=true; attr=preserve_cardinality:bool,default=false; attr=force_synchronous:bool,default=false; attr=metadata:string,default=\"\"> This may be expected if your graph generating binary is newer  than this binary. Unknown attributes will be ignored. NodeDef: {{node ParallelMapDatasetV2/_14}}\n",
      "2025-01-04 13:06:43.418037: E tensorflow/core/framework/node_def_util.cc:676] NodeDef mentions attribute use_unbounded_threadpool which is not in the op definition: Op<name=MapDataset; signature=input_dataset:variant, other_arguments: -> handle:variant; attr=f:func; attr=Targuments:list(type),min=0; attr=output_types:list(type),min=1; attr=output_shapes:list(shape),min=1; attr=use_inter_op_parallelism:bool,default=true; attr=preserve_cardinality:bool,default=false; attr=force_synchronous:bool,default=false; attr=metadata:string,default=\"\"> This may be expected if your graph generating binary is newer  than this binary. Unknown attributes will be ignored. NodeDef: {{node ParallelMapDatasetV2/_14}}\n"
     ]
    },
    {
     "name": "stdout",
     "output_type": "stream",
     "text": [
      "\u001b[1m196/196\u001b[0m \u001b[32m━━━━━━━━━━━━━━━━━━━━\u001b[0m\u001b[37m\u001b[0m \u001b[1m0s\u001b[0m 905us/step\n"
     ]
    }
   ],
   "source": [
    "pred = model.predict(X_test)"
   ]
  },
  {
   "cell_type": "code",
   "execution_count": 58,
   "id": "e7e4e945",
   "metadata": {},
   "outputs": [
    {
     "data": {
      "text/plain": [
       "0.04092836541740335"
      ]
     },
     "execution_count": 58,
     "metadata": {},
     "output_type": "execute_result"
    }
   ],
   "source": [
    "mean_squared_error(y_test, pred)"
   ]
  },
  {
   "cell_type": "code",
   "execution_count": 59,
   "id": "eecfa62e",
   "metadata": {},
   "outputs": [
    {
     "data": {
      "text/plain": [
       "0.9589884519949755"
      ]
     },
     "execution_count": 59,
     "metadata": {},
     "output_type": "execute_result"
    }
   ],
   "source": [
    "r2_score(y_test, pred)"
   ]
  },
  {
   "cell_type": "code",
   "execution_count": 60,
   "id": "07b56a3b",
   "metadata": {},
   "outputs": [
    {
     "data": {
      "text/plain": [
       "0.12269012064669915"
      ]
     },
     "execution_count": 60,
     "metadata": {},
     "output_type": "execute_result"
    }
   ],
   "source": [
    "mean_absolute_error(y_test,pred)"
   ]
  },
  {
   "cell_type": "code",
   "execution_count": null,
   "id": "c7d52121",
   "metadata": {},
   "outputs": [],
   "source": []
  }
 ],
 "metadata": {
  "kernelspec": {
   "display_name": "Python 3 (ipykernel)",
   "language": "python",
   "name": "python3"
  },
  "language_info": {
   "codemirror_mode": {
    "name": "ipython",
    "version": 3
   },
   "file_extension": ".py",
   "mimetype": "text/x-python",
   "name": "python",
   "nbconvert_exporter": "python",
   "pygments_lexer": "ipython3",
   "version": "3.11.5"
  }
 },
 "nbformat": 4,
 "nbformat_minor": 5
}
