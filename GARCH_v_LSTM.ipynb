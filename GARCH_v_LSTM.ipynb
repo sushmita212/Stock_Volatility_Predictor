{
 "cells": [
  {
   "cell_type": "code",
   "execution_count": 1,
   "id": "452255e5",
   "metadata": {},
   "outputs": [],
   "source": [
    "%load_ext autoreload\n",
    "%autoreload 2"
   ]
  },
  {
   "cell_type": "code",
   "execution_count": 2,
   "id": "9b4eb10c",
   "metadata": {},
   "outputs": [],
   "source": [
    "import warnings\n",
    "\n",
    "warnings.filterwarnings(\"ignore\")"
   ]
  },
  {
   "cell_type": "code",
   "execution_count": 3,
   "id": "3df87f22",
   "metadata": {},
   "outputs": [],
   "source": [
    "import pandas as pd\n",
    "from data import stock_data\n",
    "import sqlite3\n",
    "import numpy as np\n",
    "import matplotlib.pyplot as plt\n",
    "from arch import arch_model\n",
    "from sklearn.metrics import r2_score, mean_absolute_error, mean_squared_error\n",
    "from sklearn.preprocessing import MinMaxScaler"
   ]
  },
  {
   "cell_type": "markdown",
   "id": "77c587da",
   "metadata": {},
   "source": [
    "# Download and load data"
   ]
  },
  {
   "cell_type": "code",
   "execution_count": 4,
   "id": "b6626fe4",
   "metadata": {},
   "outputs": [],
   "source": [
    "con = sqlite3.connect(\"stock_data.db\", check_same_thread=False)"
   ]
  },
  {
   "cell_type": "code",
   "execution_count": 5,
   "id": "543ba30f",
   "metadata": {},
   "outputs": [],
   "source": [
    "sql = \"SELECT * FROM IBM\""
   ]
  },
  {
   "cell_type": "code",
   "execution_count": 6,
   "id": "a3383f30",
   "metadata": {},
   "outputs": [],
   "source": [
    "df_IBM = pd.read_sql(sql, con, parse_dates=\"data\", index_col=\"date\")"
   ]
  },
  {
   "cell_type": "code",
   "execution_count": 7,
   "id": "86dafa96",
   "metadata": {},
   "outputs": [
    {
     "data": {
      "text/html": [
       "<div>\n",
       "<style scoped>\n",
       "    .dataframe tbody tr th:only-of-type {\n",
       "        vertical-align: middle;\n",
       "    }\n",
       "\n",
       "    .dataframe tbody tr th {\n",
       "        vertical-align: top;\n",
       "    }\n",
       "\n",
       "    .dataframe thead th {\n",
       "        text-align: right;\n",
       "    }\n",
       "</style>\n",
       "<table border=\"1\" class=\"dataframe\">\n",
       "  <thead>\n",
       "    <tr style=\"text-align: right;\">\n",
       "      <th></th>\n",
       "      <th>open</th>\n",
       "      <th>high</th>\n",
       "      <th>low</th>\n",
       "      <th>close</th>\n",
       "      <th>volume</th>\n",
       "    </tr>\n",
       "    <tr>\n",
       "      <th>date</th>\n",
       "      <th></th>\n",
       "      <th></th>\n",
       "      <th></th>\n",
       "      <th></th>\n",
       "      <th></th>\n",
       "    </tr>\n",
       "  </thead>\n",
       "  <tbody>\n",
       "    <tr>\n",
       "      <th>2024-11-18T00:00:00</th>\n",
       "      <td>207.00</td>\n",
       "      <td>208.4150</td>\n",
       "      <td>205.3701</td>\n",
       "      <td>208.09</td>\n",
       "      <td>3406045.0</td>\n",
       "    </tr>\n",
       "    <tr>\n",
       "      <th>2024-11-15T00:00:00</th>\n",
       "      <td>207.46</td>\n",
       "      <td>208.4900</td>\n",
       "      <td>204.0700</td>\n",
       "      <td>204.99</td>\n",
       "      <td>3986460.0</td>\n",
       "    </tr>\n",
       "    <tr>\n",
       "      <th>2024-11-14T00:00:00</th>\n",
       "      <td>210.00</td>\n",
       "      <td>210.4999</td>\n",
       "      <td>206.3500</td>\n",
       "      <td>208.99</td>\n",
       "      <td>6372853.0</td>\n",
       "    </tr>\n",
       "    <tr>\n",
       "      <th>2024-11-13T00:00:00</th>\n",
       "      <td>209.50</td>\n",
       "      <td>211.4100</td>\n",
       "      <td>209.0701</td>\n",
       "      <td>210.92</td>\n",
       "      <td>3247830.0</td>\n",
       "    </tr>\n",
       "    <tr>\n",
       "      <th>2024-11-12T00:00:00</th>\n",
       "      <td>211.90</td>\n",
       "      <td>213.0300</td>\n",
       "      <td>209.0600</td>\n",
       "      <td>210.86</td>\n",
       "      <td>2818216.0</td>\n",
       "    </tr>\n",
       "    <tr>\n",
       "      <th>...</th>\n",
       "      <td>...</td>\n",
       "      <td>...</td>\n",
       "      <td>...</td>\n",
       "      <td>...</td>\n",
       "      <td>...</td>\n",
       "    </tr>\n",
       "    <tr>\n",
       "      <th>1999-11-05T00:00:00</th>\n",
       "      <td>92.75</td>\n",
       "      <td>92.9400</td>\n",
       "      <td>90.1900</td>\n",
       "      <td>90.25</td>\n",
       "      <td>13737600.0</td>\n",
       "    </tr>\n",
       "    <tr>\n",
       "      <th>1999-11-04T00:00:00</th>\n",
       "      <td>94.44</td>\n",
       "      <td>94.4400</td>\n",
       "      <td>90.0000</td>\n",
       "      <td>91.56</td>\n",
       "      <td>16697600.0</td>\n",
       "    </tr>\n",
       "    <tr>\n",
       "      <th>1999-11-03T00:00:00</th>\n",
       "      <td>95.87</td>\n",
       "      <td>95.9400</td>\n",
       "      <td>93.5000</td>\n",
       "      <td>94.37</td>\n",
       "      <td>10369100.0</td>\n",
       "    </tr>\n",
       "    <tr>\n",
       "      <th>1999-11-02T00:00:00</th>\n",
       "      <td>96.75</td>\n",
       "      <td>96.8100</td>\n",
       "      <td>93.6900</td>\n",
       "      <td>94.81</td>\n",
       "      <td>11105400.0</td>\n",
       "    </tr>\n",
       "    <tr>\n",
       "      <th>1999-11-01T00:00:00</th>\n",
       "      <td>98.50</td>\n",
       "      <td>98.8100</td>\n",
       "      <td>96.3700</td>\n",
       "      <td>96.75</td>\n",
       "      <td>9551800.0</td>\n",
       "    </tr>\n",
       "  </tbody>\n",
       "</table>\n",
       "<p>6303 rows × 5 columns</p>\n",
       "</div>"
      ],
      "text/plain": [
       "                       open      high       low   close      volume\n",
       "date                                                               \n",
       "2024-11-18T00:00:00  207.00  208.4150  205.3701  208.09   3406045.0\n",
       "2024-11-15T00:00:00  207.46  208.4900  204.0700  204.99   3986460.0\n",
       "2024-11-14T00:00:00  210.00  210.4999  206.3500  208.99   6372853.0\n",
       "2024-11-13T00:00:00  209.50  211.4100  209.0701  210.92   3247830.0\n",
       "2024-11-12T00:00:00  211.90  213.0300  209.0600  210.86   2818216.0\n",
       "...                     ...       ...       ...     ...         ...\n",
       "1999-11-05T00:00:00   92.75   92.9400   90.1900   90.25  13737600.0\n",
       "1999-11-04T00:00:00   94.44   94.4400   90.0000   91.56  16697600.0\n",
       "1999-11-03T00:00:00   95.87   95.9400   93.5000   94.37  10369100.0\n",
       "1999-11-02T00:00:00   96.75   96.8100   93.6900   94.81  11105400.0\n",
       "1999-11-01T00:00:00   98.50   98.8100   96.3700   96.75   9551800.0\n",
       "\n",
       "[6303 rows x 5 columns]"
      ]
     },
     "execution_count": 7,
     "metadata": {},
     "output_type": "execute_result"
    }
   ],
   "source": [
    "df_IBM"
   ]
  },
  {
   "cell_type": "code",
   "execution_count": 8,
   "id": "5b470545",
   "metadata": {},
   "outputs": [
    {
     "data": {
      "text/plain": [
       "(6303, 5)"
      ]
     },
     "execution_count": 8,
     "metadata": {},
     "output_type": "execute_result"
    }
   ],
   "source": [
    "df_IBM.shape"
   ]
  },
  {
   "cell_type": "code",
   "execution_count": 9,
   "id": "55f167a2",
   "metadata": {},
   "outputs": [],
   "source": [
    "df_IBM.index = pd.to_datetime(df_IBM.index, format='ISO8601')"
   ]
  },
  {
   "cell_type": "code",
   "execution_count": 10,
   "id": "6f5dfea4",
   "metadata": {},
   "outputs": [
    {
     "data": {
      "text/html": [
       "<div>\n",
       "<style scoped>\n",
       "    .dataframe tbody tr th:only-of-type {\n",
       "        vertical-align: middle;\n",
       "    }\n",
       "\n",
       "    .dataframe tbody tr th {\n",
       "        vertical-align: top;\n",
       "    }\n",
       "\n",
       "    .dataframe thead th {\n",
       "        text-align: right;\n",
       "    }\n",
       "</style>\n",
       "<table border=\"1\" class=\"dataframe\">\n",
       "  <thead>\n",
       "    <tr style=\"text-align: right;\">\n",
       "      <th></th>\n",
       "      <th>open</th>\n",
       "      <th>high</th>\n",
       "      <th>low</th>\n",
       "      <th>close</th>\n",
       "      <th>volume</th>\n",
       "    </tr>\n",
       "    <tr>\n",
       "      <th>date</th>\n",
       "      <th></th>\n",
       "      <th></th>\n",
       "      <th></th>\n",
       "      <th></th>\n",
       "      <th></th>\n",
       "    </tr>\n",
       "  </thead>\n",
       "  <tbody>\n",
       "    <tr>\n",
       "      <th>2024-11-18</th>\n",
       "      <td>207.00</td>\n",
       "      <td>208.4150</td>\n",
       "      <td>205.3701</td>\n",
       "      <td>208.09</td>\n",
       "      <td>3406045.0</td>\n",
       "    </tr>\n",
       "    <tr>\n",
       "      <th>2024-11-15</th>\n",
       "      <td>207.46</td>\n",
       "      <td>208.4900</td>\n",
       "      <td>204.0700</td>\n",
       "      <td>204.99</td>\n",
       "      <td>3986460.0</td>\n",
       "    </tr>\n",
       "    <tr>\n",
       "      <th>2024-11-14</th>\n",
       "      <td>210.00</td>\n",
       "      <td>210.4999</td>\n",
       "      <td>206.3500</td>\n",
       "      <td>208.99</td>\n",
       "      <td>6372853.0</td>\n",
       "    </tr>\n",
       "    <tr>\n",
       "      <th>2024-11-13</th>\n",
       "      <td>209.50</td>\n",
       "      <td>211.4100</td>\n",
       "      <td>209.0701</td>\n",
       "      <td>210.92</td>\n",
       "      <td>3247830.0</td>\n",
       "    </tr>\n",
       "    <tr>\n",
       "      <th>2024-11-12</th>\n",
       "      <td>211.90</td>\n",
       "      <td>213.0300</td>\n",
       "      <td>209.0600</td>\n",
       "      <td>210.86</td>\n",
       "      <td>2818216.0</td>\n",
       "    </tr>\n",
       "  </tbody>\n",
       "</table>\n",
       "</div>"
      ],
      "text/plain": [
       "              open      high       low   close     volume\n",
       "date                                                     \n",
       "2024-11-18  207.00  208.4150  205.3701  208.09  3406045.0\n",
       "2024-11-15  207.46  208.4900  204.0700  204.99  3986460.0\n",
       "2024-11-14  210.00  210.4999  206.3500  208.99  6372853.0\n",
       "2024-11-13  209.50  211.4100  209.0701  210.92  3247830.0\n",
       "2024-11-12  211.90  213.0300  209.0600  210.86  2818216.0"
      ]
     },
     "execution_count": 10,
     "metadata": {},
     "output_type": "execute_result"
    }
   ],
   "source": [
    "df_IBM.head()"
   ]
  },
  {
   "cell_type": "code",
   "execution_count": 11,
   "id": "b598b17d",
   "metadata": {},
   "outputs": [],
   "source": [
    "df_IBM.sort_index(inplace=True)"
   ]
  },
  {
   "cell_type": "markdown",
   "id": "4e9b8e5b",
   "metadata": {},
   "source": [
    "# Calculate Returns"
   ]
  },
  {
   "cell_type": "code",
   "execution_count": 12,
   "id": "fea92ab2",
   "metadata": {},
   "outputs": [],
   "source": [
    "df_IBM['returns'] = np.log(df_IBM['close'] / df_IBM['close'].shift(1))*100"
   ]
  },
  {
   "cell_type": "code",
   "execution_count": 13,
   "id": "55cc82d8",
   "metadata": {},
   "outputs": [
    {
     "data": {
      "text/plain": [
       "date\n",
       "1999-11-01         NaN\n",
       "1999-11-02   -2.025544\n",
       "1999-11-03   -0.465166\n",
       "1999-11-04   -3.022873\n",
       "1999-11-05   -1.441090\n",
       "                ...   \n",
       "2024-11-12   -1.277024\n",
       "2024-11-13    0.028451\n",
       "2024-11-14   -0.919251\n",
       "2024-11-15   -1.932521\n",
       "2024-11-18    1.500948\n",
       "Name: returns, Length: 6303, dtype: float64"
      ]
     },
     "execution_count": 13,
     "metadata": {},
     "output_type": "execute_result"
    }
   ],
   "source": [
    "df_IBM[\"returns\"]"
   ]
  },
  {
   "cell_type": "markdown",
   "id": "d649c609",
   "metadata": {},
   "source": [
    "# GARCH model"
   ]
  },
  {
   "cell_type": "markdown",
   "id": "c8d8571b",
   "metadata": {},
   "source": [
    "## Train test split"
   ]
  },
  {
   "cell_type": "code",
   "execution_count": 14,
   "id": "9213d697",
   "metadata": {},
   "outputs": [],
   "source": [
    "y = df_IBM[\"returns\"].dropna()\n",
    "cutoff = int(0.8*len(y))"
   ]
  },
  {
   "cell_type": "code",
   "execution_count": 15,
   "id": "4900b31c",
   "metadata": {},
   "outputs": [],
   "source": [
    "y_train = y.iloc[:cutoff]\n",
    "#"
   ]
  },
  {
   "cell_type": "code",
   "execution_count": 16,
   "id": "aba83eb4",
   "metadata": {},
   "outputs": [],
   "source": [
    "y_test = y.iloc[cutoff:]\n",
    "#"
   ]
  },
  {
   "cell_type": "markdown",
   "id": "ec73278d",
   "metadata": {},
   "source": [
    "# GARCH model walk forward prediction"
   ]
  },
  {
   "cell_type": "code",
   "execution_count": 17,
   "id": "2fd0b41b",
   "metadata": {},
   "outputs": [],
   "source": [
    "w_fwd_pred=[]\n",
    "\n",
    "for i in range(y_test.shape[0]):\n",
    "    y_train = df_IBM[\"returns\"].iloc[1:-(y_test.shape[0]-i)]\n",
    "    model = arch_model(y_train, p=1, q=1, rescale=False)\n",
    "    res= model.fit(disp=0)\n",
    "    forecasts = res.forecast(horizon=1)\n",
    "    pred_vol = (forecasts.variance.values[-1,:][0])**0.5\n",
    "    w_fwd_pred.append(pred_vol)\n",
    "    "
   ]
  },
  {
   "cell_type": "code",
   "execution_count": 18,
   "id": "17a29c75",
   "metadata": {},
   "outputs": [],
   "source": [
    "w_fwd_vol = pd.Series(w_fwd_pred, index=y_test.index)"
   ]
  },
  {
   "cell_type": "code",
   "execution_count": 19,
   "id": "79e5b9a1",
   "metadata": {},
   "outputs": [],
   "source": [
    "window=21\n",
    "test_vol = df_IBM[\"returns\"].rolling(window).std().dropna()"
   ]
  },
  {
   "cell_type": "code",
   "execution_count": 20,
   "id": "7c5e70a8",
   "metadata": {},
   "outputs": [],
   "source": [
    "test_vol = test_vol.iloc[-y_test.shape[0]:]"
   ]
  },
  {
   "cell_type": "code",
   "execution_count": 21,
   "id": "b1bbe271",
   "metadata": {},
   "outputs": [
    {
     "data": {
      "image/png": "[encoded data removed]",
      "text/plain": [
       "<Figure size 640x480 with 1 Axes>"
      ]
     },
     "metadata": {},
     "output_type": "display_data"
    }
   ],
   "source": [
    "plt.plot(df_IBM[\"returns\"].iloc[-len(y_test):], color=\"lightgray\", label=\"Log Returns\")\n",
    "plt.plot(w_fwd_vol, color=\"black\", label=\"Predicted Volatility\")\n",
    "plt.plot(test_vol, color=\"red\", label=\"Actual Volatility\")\n",
    "plt.legend();"
   ]
  },
  {
   "cell_type": "code",
   "execution_count": 22,
   "id": "a9543808",
   "metadata": {},
   "outputs": [
    {
     "data": {
      "text/plain": [
       "0.82"
      ]
     },
     "execution_count": 22,
     "metadata": {},
     "output_type": "execute_result"
    }
   ],
   "source": [
    "R2 = r2_score(test_vol, w_fwd_vol)\n",
    "round(R2,2)"
   ]
  },
  {
   "cell_type": "code",
   "execution_count": 23,
   "id": "52b5efb2",
   "metadata": {},
   "outputs": [
    {
     "data": {
      "text/plain": [
       "0.26"
      ]
     },
     "execution_count": 23,
     "metadata": {},
     "output_type": "execute_result"
    }
   ],
   "source": [
    "MAE = mean_absolute_error(test_vol, w_fwd_vol)\n",
    "round(MAE,2)"
   ]
  },
  {
   "cell_type": "code",
   "execution_count": 24,
   "id": "06948f10",
   "metadata": {},
   "outputs": [
    {
     "data": {
      "text/plain": [
       "0.12"
      ]
     },
     "execution_count": 24,
     "metadata": {},
     "output_type": "execute_result"
    }
   ],
   "source": [
    "MSE = mean_squared_error(test_vol, w_fwd_vol)\n",
    "round(MSE,2)"
   ]
  },
  {
   "cell_type": "markdown",
   "id": "8b7a6d71",
   "metadata": {},
   "source": [
    "# LSTM model"
   ]
  },
  {
   "cell_type": "code",
   "execution_count": 25,
   "id": "a39f1926",
   "metadata": {},
   "outputs": [],
   "source": [
    "from tensorflow.keras.models import Sequential\n",
    "from tensorflow.keras.layers import LSTM, Dense\n",
    "from tensorflow import keras\n",
    "import tensorflow as tf\n",
    "from tensorflow.keras.callbacks import EarlyStopping"
   ]
  },
  {
   "cell_type": "markdown",
   "id": "cb5877ad",
   "metadata": {},
   "source": [
    "## Prepare Input for LSTM (introduce lag)"
   ]
  },
  {
   "cell_type": "code",
   "execution_count": 26,
   "id": "a206e3b2",
   "metadata": {},
   "outputs": [
    {
     "data": {
      "text/html": [
       "<div>\n",
       "<style scoped>\n",
       "    .dataframe tbody tr th:only-of-type {\n",
       "        vertical-align: middle;\n",
       "    }\n",
       "\n",
       "    .dataframe tbody tr th {\n",
       "        vertical-align: top;\n",
       "    }\n",
       "\n",
       "    .dataframe thead th {\n",
       "        text-align: right;\n",
       "    }\n",
       "</style>\n",
       "<table border=\"1\" class=\"dataframe\">\n",
       "  <thead>\n",
       "    <tr style=\"text-align: right;\">\n",
       "      <th></th>\n",
       "      <th>open</th>\n",
       "      <th>high</th>\n",
       "      <th>low</th>\n",
       "      <th>close</th>\n",
       "      <th>volume</th>\n",
       "      <th>returns</th>\n",
       "      <th>rolling_volatility</th>\n",
       "    </tr>\n",
       "    <tr>\n",
       "      <th>date</th>\n",
       "      <th></th>\n",
       "      <th></th>\n",
       "      <th></th>\n",
       "      <th></th>\n",
       "      <th></th>\n",
       "      <th></th>\n",
       "      <th></th>\n",
       "    </tr>\n",
       "  </thead>\n",
       "  <tbody>\n",
       "    <tr>\n",
       "      <th>1999-12-01</th>\n",
       "      <td>102.56</td>\n",
       "      <td>104.44</td>\n",
       "      <td>102.25</td>\n",
       "      <td>103.42</td>\n",
       "      <td>5336400.0</td>\n",
       "      <td>0.348702</td>\n",
       "      <td>2.524261</td>\n",
       "    </tr>\n",
       "    <tr>\n",
       "      <th>1999-12-02</th>\n",
       "      <td>103.44</td>\n",
       "      <td>106.31</td>\n",
       "      <td>103.37</td>\n",
       "      <td>105.27</td>\n",
       "      <td>6216900.0</td>\n",
       "      <td>1.773011</td>\n",
       "      <td>2.483744</td>\n",
       "    </tr>\n",
       "    <tr>\n",
       "      <th>1999-12-03</th>\n",
       "      <td>109.81</td>\n",
       "      <td>112.87</td>\n",
       "      <td>107.94</td>\n",
       "      <td>111.87</td>\n",
       "      <td>14680300.0</td>\n",
       "      <td>6.080900</td>\n",
       "      <td>2.752959</td>\n",
       "    </tr>\n",
       "    <tr>\n",
       "      <th>1999-12-06</th>\n",
       "      <td>113.00</td>\n",
       "      <td>116.50</td>\n",
       "      <td>112.50</td>\n",
       "      <td>116.00</td>\n",
       "      <td>9928300.0</td>\n",
       "      <td>3.625271</td>\n",
       "      <td>2.671188</td>\n",
       "    </tr>\n",
       "    <tr>\n",
       "      <th>1999-12-07</th>\n",
       "      <td>117.00</td>\n",
       "      <td>119.19</td>\n",
       "      <td>115.44</td>\n",
       "      <td>116.62</td>\n",
       "      <td>11326100.0</td>\n",
       "      <td>0.533059</td>\n",
       "      <td>2.610349</td>\n",
       "    </tr>\n",
       "  </tbody>\n",
       "</table>\n",
       "</div>"
      ],
      "text/plain": [
       "              open    high     low   close      volume   returns  \\\n",
       "date                                                               \n",
       "1999-12-01  102.56  104.44  102.25  103.42   5336400.0  0.348702   \n",
       "1999-12-02  103.44  106.31  103.37  105.27   6216900.0  1.773011   \n",
       "1999-12-03  109.81  112.87  107.94  111.87  14680300.0  6.080900   \n",
       "1999-12-06  113.00  116.50  112.50  116.00   9928300.0  3.625271   \n",
       "1999-12-07  117.00  119.19  115.44  116.62  11326100.0  0.533059   \n",
       "\n",
       "            rolling_volatility  \n",
       "date                            \n",
       "1999-12-01            2.524261  \n",
       "1999-12-02            2.483744  \n",
       "1999-12-03            2.752959  \n",
       "1999-12-06            2.671188  \n",
       "1999-12-07            2.610349  "
      ]
     },
     "execution_count": 26,
     "metadata": {},
     "output_type": "execute_result"
    }
   ],
   "source": [
    "df=df_IBM\n",
    "df[\"rolling_volatility\"] = df[\"returns\"].rolling(window=21).std()\n",
    "df.dropna(inplace=True)\n",
    "df.head()"
   ]
  },
  {
   "cell_type": "markdown",
   "id": "8bdcdbfd",
   "metadata": {},
   "source": [
    "## Train-test split"
   ]
  },
  {
   "cell_type": "code",
   "execution_count": 27,
   "id": "4921e36d",
   "metadata": {},
   "outputs": [],
   "source": [
    "cut_off = int(len(df)*0.8)\n",
    "df_train = df[:cut_off]\n",
    "df_test = df[cut_off:]"
   ]
  },
  {
   "cell_type": "code",
   "execution_count": 28,
   "id": "5e7f1d26",
   "metadata": {},
   "outputs": [],
   "source": [
    "# Function to create LSTM dataset\n",
    "def create_lstm_dataset(dataset, time_steps=4):\n",
    "    features = dataset.columns\n",
    "    \n",
    "    # Normalize the features\n",
    "    scaler = MinMaxScaler()\n",
    "    scaled_data = scaler.fit_transform(dataset[features])\n",
    "    \n",
    "    X, y = [], []\n",
    "    \n",
    "    # Create sliding window\n",
    "    for i in range(len(scaled_data) - time_steps):\n",
    "        # X: Input sequence of time_steps\n",
    "        X.append(scaled_data[i:i+time_steps])\n",
    "        \n",
    "        # y: Next time step's closing price\n",
    "        y.append(scaled_data[i+time_steps][-1]) \n",
    "        \n",
    "    \n",
    "    return np.array(X), np.array(y), scaler"
   ]
  },
  {
   "cell_type": "code",
   "execution_count": 29,
   "id": "5e6cd49e",
   "metadata": {},
   "outputs": [],
   "source": [
    "# Generate training data\n",
    "time_steps = 4\n",
    "X_train, y_train, scaler = create_lstm_dataset(df_train, time_steps=time_steps)"
   ]
  },
  {
   "cell_type": "code",
   "execution_count": 30,
   "id": "7762f61f",
   "metadata": {},
   "outputs": [
    {
     "data": {
      "text/plain": [
       "7"
      ]
     },
     "execution_count": 30,
     "metadata": {},
     "output_type": "execute_result"
    }
   ],
   "source": [
    "# Get the number of features\n",
    "data_dim = X_train.shape[2]\n",
    "data_dim"
   ]
  },
  {
   "cell_type": "code",
   "execution_count": 31,
   "id": "a5b3b032",
   "metadata": {},
   "outputs": [],
   "source": [
    "# Build the LSTM model\n",
    "model = Sequential([\n",
    "    LSTM(units=100, input_shape=(time_steps, data_dim)),\n",
    "    Dense(units=1)\n",
    "])"
   ]
  },
  {
   "cell_type": "code",
   "execution_count": 32,
   "id": "19f23e74",
   "metadata": {},
   "outputs": [],
   "source": [
    "# Compile the model\n",
    "model.compile(optimizer=tf.keras.optimizers.Adam(\n",
    "        learning_rate=0.001), loss='mean_squared_error', metrics=[tf.keras.metrics.RootMeanSquaredError()])"
   ]
  },
  {
   "cell_type": "code",
   "execution_count": 33,
   "id": "5a20787f",
   "metadata": {},
   "outputs": [],
   "source": [
    "early_stopping = EarlyStopping(\n",
    "    monitor='val_loss',     # Monitor validation loss\n",
    "    patience=10,            # Number of epochs with no improvement\n",
    "    min_delta=0.001,        # Minimum change to qualify as an improvement\n",
    "    restore_best_weights=True  # Restore model weights from best epoch\n",
    ")"
   ]
  },
  {
   "cell_type": "code",
   "execution_count": 34,
   "id": "16ef6195",
   "metadata": {},
   "outputs": [
    {
     "name": "stdout",
     "output_type": "stream",
     "text": [
      "Epoch 1/100\n",
      "\u001b[1m21/21\u001b[0m \u001b[32m━━━━━━━━━━━━━━━━━━━━\u001b[0m\u001b[37m\u001b[0m \u001b[1m1s\u001b[0m 8ms/step - loss: 0.0885 - root_mean_squared_error: 0.2877 - val_loss: 0.0094 - val_root_mean_squared_error: 0.0972\n",
      "Epoch 2/100\n",
      "\u001b[1m21/21\u001b[0m \u001b[32m━━━━━━━━━━━━━━━━━━━━\u001b[0m\u001b[37m\u001b[0m \u001b[1m0s\u001b[0m 4ms/step - loss: 0.0354 - root_mean_squared_error: 0.1819 - val_loss: 0.0068 - val_root_mean_squared_error: 0.0822\n",
      "Epoch 3/100\n",
      "\u001b[1m21/21\u001b[0m \u001b[32m━━━━━━━━━━━━━━━━━━━━\u001b[0m\u001b[37m\u001b[0m \u001b[1m0s\u001b[0m 4ms/step - loss: 0.0127 - root_mean_squared_error: 0.1120 - val_loss: 0.0035 - val_root_mean_squared_error: 0.0592\n",
      "Epoch 4/100\n",
      "\u001b[1m21/21\u001b[0m \u001b[32m━━━━━━━━━━━━━━━━━━━━\u001b[0m\u001b[37m\u001b[0m \u001b[1m0s\u001b[0m 4ms/step - loss: 0.0118 - root_mean_squared_error: 0.1062 - val_loss: 0.0024 - val_root_mean_squared_error: 0.0486\n",
      "Epoch 5/100\n",
      "\u001b[1m21/21\u001b[0m \u001b[32m━━━━━━━━━━━━━━━━━━━━\u001b[0m\u001b[37m\u001b[0m \u001b[1m0s\u001b[0m 4ms/step - loss: 0.0055 - root_mean_squared_error: 0.0724 - val_loss: 0.0016 - val_root_mean_squared_error: 0.0404\n",
      "Epoch 6/100\n",
      "\u001b[1m21/21\u001b[0m \u001b[32m━━━━━━━━━━━━━━━━━━━━\u001b[0m\u001b[37m\u001b[0m \u001b[1m0s\u001b[0m 4ms/step - loss: 0.0023 - root_mean_squared_error: 0.0475 - val_loss: 0.0015 - val_root_mean_squared_error: 0.0382\n",
      "Epoch 7/100\n",
      "\u001b[1m21/21\u001b[0m \u001b[32m━━━━━━━━━━━━━━━━━━━━\u001b[0m\u001b[37m\u001b[0m \u001b[1m0s\u001b[0m 4ms/step - loss: 0.0027 - root_mean_squared_error: 0.0512 - val_loss: 0.0038 - val_root_mean_squared_error: 0.0615\n",
      "Epoch 8/100\n",
      "\u001b[1m21/21\u001b[0m \u001b[32m━━━━━━━━━━━━━━━━━━━━\u001b[0m\u001b[37m\u001b[0m \u001b[1m0s\u001b[0m 4ms/step - loss: 0.0039 - root_mean_squared_error: 0.0622 - val_loss: 0.0047 - val_root_mean_squared_error: 0.0686\n",
      "Epoch 9/100\n",
      "\u001b[1m21/21\u001b[0m \u001b[32m━━━━━━━━━━━━━━━━━━━━\u001b[0m\u001b[37m\u001b[0m \u001b[1m0s\u001b[0m 4ms/step - loss: 0.0039 - root_mean_squared_error: 0.0616 - val_loss: 0.0058 - val_root_mean_squared_error: 0.0764\n",
      "Epoch 10/100\n",
      "\u001b[1m21/21\u001b[0m \u001b[32m━━━━━━━━━━━━━━━━━━━━\u001b[0m\u001b[37m\u001b[0m \u001b[1m0s\u001b[0m 4ms/step - loss: 0.0044 - root_mean_squared_error: 0.0654 - val_loss: 0.0055 - val_root_mean_squared_error: 0.0739\n",
      "Epoch 11/100\n",
      "\u001b[1m21/21\u001b[0m \u001b[32m━━━━━━━━━━━━━━━━━━━━\u001b[0m\u001b[37m\u001b[0m \u001b[1m0s\u001b[0m 4ms/step - loss: 0.0037 - root_mean_squared_error: 0.0604 - val_loss: 0.0038 - val_root_mean_squared_error: 0.0614\n",
      "Epoch 12/100\n",
      "\u001b[1m21/21\u001b[0m \u001b[32m━━━━━━━━━━━━━━━━━━━━\u001b[0m\u001b[37m\u001b[0m \u001b[1m0s\u001b[0m 4ms/step - loss: 0.0027 - root_mean_squared_error: 0.0513 - val_loss: 0.0023 - val_root_mean_squared_error: 0.0481\n",
      "Epoch 13/100\n",
      "\u001b[1m21/21\u001b[0m \u001b[32m━━━━━━━━━━━━━━━━━━━━\u001b[0m\u001b[37m\u001b[0m \u001b[1m0s\u001b[0m 4ms/step - loss: 0.0021 - root_mean_squared_error: 0.0450 - val_loss: 0.0017 - val_root_mean_squared_error: 0.0416\n",
      "Epoch 14/100\n",
      "\u001b[1m21/21\u001b[0m \u001b[32m━━━━━━━━━━━━━━━━━━━━\u001b[0m\u001b[37m\u001b[0m \u001b[1m0s\u001b[0m 4ms/step - loss: 0.0019 - root_mean_squared_error: 0.0430 - val_loss: 0.0016 - val_root_mean_squared_error: 0.0403\n"
     ]
    }
   ],
   "source": [
    "# Train the model\n",
    "history = model.fit(\n",
    "    X_train, y_train, \n",
    "    epochs=100,\n",
    "    validation_split=0.2,\n",
    "    batch_size=200, \n",
    "    verbose=1,\n",
    "    shuffle=False,\n",
    "    callbacks=[early_stopping]\n",
    ")"
   ]
  },
  {
   "cell_type": "code",
   "execution_count": 35,
   "id": "817c8fe3",
   "metadata": {},
   "outputs": [
    {
     "data": {
      "text/plain": [
       "dict_keys(['loss', 'root_mean_squared_error', 'val_loss', 'val_root_mean_squared_error'])"
      ]
     },
     "execution_count": 35,
     "metadata": {},
     "output_type": "execute_result"
    }
   ],
   "source": [
    "history.history.keys()"
   ]
  },
  {
   "cell_type": "code",
   "execution_count": 36,
   "id": "725b5c13",
   "metadata": {},
   "outputs": [
    {
     "data": {
      "image/png": "[encoded data removed]",
      "text/plain": [
       "<Figure size 1000x500 with 1 Axes>"
      ]
     },
     "metadata": {},
     "output_type": "display_data"
    }
   ],
   "source": [
    "# Optional: Plot training history\n",
    "import matplotlib.pyplot as plt\n",
    "\n",
    "plt.figure(figsize=(10,5))\n",
    "plt.plot(history.history['loss'], label='Training Loss')\n",
    "plt.plot(history.history['val_loss'], label='Validation Loss')\n",
    "plt.title('Model Loss')\n",
    "plt.xlabel('Epoch')\n",
    "plt.ylabel('Loss')\n",
    "plt.legend()\n",
    "plt.show()"
   ]
  },
  {
   "cell_type": "code",
   "execution_count": 37,
   "id": "d5a32480",
   "metadata": {},
   "outputs": [],
   "source": [
    "# Generate training data\n",
    "# time_steps = 4\n",
    "X_test, y_test, scaler = create_lstm_dataset(df_test, time_steps=time_steps)"
   ]
  },
  {
   "cell_type": "code",
   "execution_count": 38,
   "id": "d69447f8",
   "metadata": {},
   "outputs": [
    {
     "name": "stdout",
     "output_type": "stream",
     "text": [
      "\u001b[1m40/40\u001b[0m \u001b[32m━━━━━━━━━━━━━━━━━━━━\u001b[0m\u001b[37m\u001b[0m \u001b[1m0s\u001b[0m 2ms/step\n"
     ]
    }
   ],
   "source": [
    "pred = model.predict(X_test)"
   ]
  },
  {
   "cell_type": "code",
   "execution_count": 39,
   "id": "bfbce2c6",
   "metadata": {},
   "outputs": [
    {
     "data": {
      "text/plain": [
       "1253"
      ]
     },
     "execution_count": 39,
     "metadata": {},
     "output_type": "execute_result"
    }
   ],
   "source": [
    "len(pred)"
   ]
  },
  {
   "cell_type": "code",
   "execution_count": 40,
   "id": "b463b53c",
   "metadata": {},
   "outputs": [
    {
     "data": {
      "text/plain": [
       "1253"
      ]
     },
     "execution_count": 40,
     "metadata": {},
     "output_type": "execute_result"
    }
   ],
   "source": [
    "len(y_test)"
   ]
  },
  {
   "cell_type": "code",
   "execution_count": 41,
   "id": "3f7108ef",
   "metadata": {},
   "outputs": [
    {
     "data": {
      "text/plain": [
       "0.002614270650997912"
      ]
     },
     "execution_count": 41,
     "metadata": {},
     "output_type": "execute_result"
    }
   ],
   "source": [
    "mean_squared_error(y_test, pred)"
   ]
  },
  {
   "cell_type": "code",
   "execution_count": 42,
   "id": "9b0c2476",
   "metadata": {},
   "outputs": [
    {
     "data": {
      "text/plain": [
       "0.8656847844920708"
      ]
     },
     "execution_count": 42,
     "metadata": {},
     "output_type": "execute_result"
    }
   ],
   "source": [
    "r2_score(y_test, pred)"
   ]
  },
  {
   "cell_type": "code",
   "execution_count": null,
   "id": "7a15210b",
   "metadata": {},
   "outputs": [],
   "source": []
  },
  {
   "cell_type": "code",
   "execution_count": null,
   "id": "9767c272",
   "metadata": {},
   "outputs": [],
   "source": []
  }
 ],
 "metadata": {
  "kernelspec": {
   "display_name": "Python 3 (ipykernel)",
   "language": "python",
   "name": "python3"
  },
  "language_info": {
   "codemirror_mode": {
    "name": "ipython",
    "version": 3
   },
   "file_extension": ".py",
   "mimetype": "text/x-python",
   "name": "python",
   "nbconvert_exporter": "python",
   "pygments_lexer": "ipython3",
   "version": "3.11.5"
  }
 },
 "nbformat": 4,
 "nbformat_minor": 5
}
