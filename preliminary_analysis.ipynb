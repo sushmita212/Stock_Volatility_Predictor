{
 "cells": [
  {
   "cell_type": "code",
   "execution_count": 87,
   "id": "452255e5",
   "metadata": {},
   "outputs": [
    {
     "name": "stdout",
     "output_type": "stream",
     "text": [
      "The autoreload extension is already loaded. To reload it, use:\n",
      "  %reload_ext autoreload\n"
     ]
    }
   ],
   "source": [
    "%load_ext autoreload\n",
    "%autoreload 2"
   ]
  },
  {
   "cell_type": "code",
   "execution_count": 88,
   "id": "9b4eb10c",
   "metadata": {},
   "outputs": [],
   "source": [
    "import warnings\n",
    "\n",
    "warnings.filterwarnings(\"ignore\")"
   ]
  },
  {
   "cell_type": "code",
   "execution_count": 89,
   "id": "3df87f22",
   "metadata": {},
   "outputs": [],
   "source": [
    "import pandas as pd\n",
    "from data import stock_data\n",
    "import sqlite3\n",
    "import numpy as np\n",
    "import matplotlib.pyplot as plt\n",
    "from arch import arch_model\n",
    "from sklearn.metrics import r2_score, mean_absolute_error, mean_squared_error\n",
    "from sklearn.preprocessing import MinMaxScaler"
   ]
  },
  {
   "cell_type": "markdown",
   "id": "77c587da",
   "metadata": {},
   "source": [
    "# Download and load data"
   ]
  },
  {
   "cell_type": "code",
   "execution_count": 103,
   "id": "459051b5",
   "metadata": {},
   "outputs": [],
   "source": [
    "dt = stock_data(\"INTC\")"
   ]
  },
  {
   "cell_type": "code",
   "execution_count": 104,
   "id": "993f0689",
   "metadata": {},
   "outputs": [
    {
     "data": {
      "text/html": [
       "<div>\n",
       "<style scoped>\n",
       "    .dataframe tbody tr th:only-of-type {\n",
       "        vertical-align: middle;\n",
       "    }\n",
       "\n",
       "    .dataframe tbody tr th {\n",
       "        vertical-align: top;\n",
       "    }\n",
       "\n",
       "    .dataframe thead th {\n",
       "        text-align: right;\n",
       "    }\n",
       "</style>\n",
       "<table border=\"1\" class=\"dataframe\">\n",
       "  <thead>\n",
       "    <tr style=\"text-align: right;\">\n",
       "      <th></th>\n",
       "      <th>open</th>\n",
       "      <th>high</th>\n",
       "      <th>low</th>\n",
       "      <th>close</th>\n",
       "      <th>volume</th>\n",
       "    </tr>\n",
       "    <tr>\n",
       "      <th>date</th>\n",
       "      <th></th>\n",
       "      <th></th>\n",
       "      <th></th>\n",
       "      <th></th>\n",
       "      <th></th>\n",
       "    </tr>\n",
       "  </thead>\n",
       "  <tbody>\n",
       "    <tr>\n",
       "      <th>2024-11-29</th>\n",
       "      <td>23.69</td>\n",
       "      <td>24.280</td>\n",
       "      <td>23.60</td>\n",
       "      <td>24.05</td>\n",
       "      <td>36616750.0</td>\n",
       "    </tr>\n",
       "    <tr>\n",
       "      <th>2024-11-27</th>\n",
       "      <td>23.83</td>\n",
       "      <td>23.930</td>\n",
       "      <td>23.06</td>\n",
       "      <td>23.65</td>\n",
       "      <td>53992319.0</td>\n",
       "    </tr>\n",
       "    <tr>\n",
       "      <th>2024-11-26</th>\n",
       "      <td>24.95</td>\n",
       "      <td>24.985</td>\n",
       "      <td>23.81</td>\n",
       "      <td>24.05</td>\n",
       "      <td>69613557.0</td>\n",
       "    </tr>\n",
       "    <tr>\n",
       "      <th>2024-11-25</th>\n",
       "      <td>25.04</td>\n",
       "      <td>25.565</td>\n",
       "      <td>24.76</td>\n",
       "      <td>24.87</td>\n",
       "      <td>91128387.0</td>\n",
       "    </tr>\n",
       "    <tr>\n",
       "      <th>2024-11-22</th>\n",
       "      <td>24.35</td>\n",
       "      <td>24.680</td>\n",
       "      <td>24.14</td>\n",
       "      <td>24.50</td>\n",
       "      <td>36784715.0</td>\n",
       "    </tr>\n",
       "    <tr>\n",
       "      <th>...</th>\n",
       "      <td>...</td>\n",
       "      <td>...</td>\n",
       "      <td>...</td>\n",
       "      <td>...</td>\n",
       "      <td>...</td>\n",
       "    </tr>\n",
       "    <tr>\n",
       "      <th>1999-11-05</th>\n",
       "      <td>82.38</td>\n",
       "      <td>83.880</td>\n",
       "      <td>81.81</td>\n",
       "      <td>82.38</td>\n",
       "      <td>19837200.0</td>\n",
       "    </tr>\n",
       "    <tr>\n",
       "      <th>1999-11-04</th>\n",
       "      <td>80.44</td>\n",
       "      <td>81.750</td>\n",
       "      <td>80.19</td>\n",
       "      <td>81.56</td>\n",
       "      <td>21843500.0</td>\n",
       "    </tr>\n",
       "    <tr>\n",
       "      <th>1999-11-03</th>\n",
       "      <td>78.38</td>\n",
       "      <td>80.690</td>\n",
       "      <td>77.75</td>\n",
       "      <td>79.75</td>\n",
       "      <td>25240100.0</td>\n",
       "    </tr>\n",
       "    <tr>\n",
       "      <th>1999-11-02</th>\n",
       "      <td>77.06</td>\n",
       "      <td>78.190</td>\n",
       "      <td>76.56</td>\n",
       "      <td>77.50</td>\n",
       "      <td>20338200.0</td>\n",
       "    </tr>\n",
       "    <tr>\n",
       "      <th>1999-11-01</th>\n",
       "      <td>77.63</td>\n",
       "      <td>78.310</td>\n",
       "      <td>75.94</td>\n",
       "      <td>76.00</td>\n",
       "      <td>22934100.0</td>\n",
       "    </tr>\n",
       "  </tbody>\n",
       "</table>\n",
       "<p>6311 rows × 5 columns</p>\n",
       "</div>"
      ],
      "text/plain": [
       "             open    high    low  close      volume\n",
       "date                                               \n",
       "2024-11-29  23.69  24.280  23.60  24.05  36616750.0\n",
       "2024-11-27  23.83  23.930  23.06  23.65  53992319.0\n",
       "2024-11-26  24.95  24.985  23.81  24.05  69613557.0\n",
       "2024-11-25  25.04  25.565  24.76  24.87  91128387.0\n",
       "2024-11-22  24.35  24.680  24.14  24.50  36784715.0\n",
       "...           ...     ...    ...    ...         ...\n",
       "1999-11-05  82.38  83.880  81.81  82.38  19837200.0\n",
       "1999-11-04  80.44  81.750  80.19  81.56  21843500.0\n",
       "1999-11-03  78.38  80.690  77.75  79.75  25240100.0\n",
       "1999-11-02  77.06  78.190  76.56  77.50  20338200.0\n",
       "1999-11-01  77.63  78.310  75.94  76.00  22934100.0\n",
       "\n",
       "[6311 rows x 5 columns]"
      ]
     },
     "execution_count": 104,
     "metadata": {},
     "output_type": "execute_result"
    }
   ],
   "source": [
    "dt.get_daily(\"full\")"
   ]
  },
  {
   "cell_type": "code",
   "execution_count": 105,
   "id": "b6626fe4",
   "metadata": {},
   "outputs": [],
   "source": [
    "con = sqlite3.connect(\"stock_data.db\", check_same_thread=False)"
   ]
  },
  {
   "cell_type": "code",
   "execution_count": 115,
   "id": "9d8d1bce",
   "metadata": {},
   "outputs": [
    {
     "name": "stdout",
     "output_type": "stream",
     "text": [
      "Data for INTC inserted into database\n"
     ]
    }
   ],
   "source": [
    "dt.insert_table(con, if_exists =\"replace\")"
   ]
  },
  {
   "cell_type": "code",
   "execution_count": 116,
   "id": "7a2e50da",
   "metadata": {},
   "outputs": [
    {
     "name": "stdout",
     "output_type": "stream",
     "text": [
      "[('IBM',), ('TSLA',), ('INTC',)]\n"
     ]
    }
   ],
   "source": [
    "cursor = con.cursor()\n",
    "cursor.execute(\"SELECT name FROM sqlite_master WHERE type='table';\")\n",
    "print(cursor.fetchall())"
   ]
  },
  {
   "cell_type": "code",
   "execution_count": 108,
   "id": "543ba30f",
   "metadata": {},
   "outputs": [],
   "source": [
    "sql = \"SELECT * FROM IBM\""
   ]
  },
  {
   "cell_type": "code",
   "execution_count": 109,
   "id": "a3383f30",
   "metadata": {},
   "outputs": [],
   "source": [
    "df_IBM = pd.read_sql(sql, con, parse_dates=\"data\", index_col=\"date\")"
   ]
  },
  {
   "cell_type": "code",
   "execution_count": 110,
   "id": "86dafa96",
   "metadata": {},
   "outputs": [
    {
     "data": {
      "text/html": [
       "<div>\n",
       "<style scoped>\n",
       "    .dataframe tbody tr th:only-of-type {\n",
       "        vertical-align: middle;\n",
       "    }\n",
       "\n",
       "    .dataframe tbody tr th {\n",
       "        vertical-align: top;\n",
       "    }\n",
       "\n",
       "    .dataframe thead th {\n",
       "        text-align: right;\n",
       "    }\n",
       "</style>\n",
       "<table border=\"1\" class=\"dataframe\">\n",
       "  <thead>\n",
       "    <tr style=\"text-align: right;\">\n",
       "      <th></th>\n",
       "      <th>open</th>\n",
       "      <th>high</th>\n",
       "      <th>low</th>\n",
       "      <th>close</th>\n",
       "      <th>volume</th>\n",
       "    </tr>\n",
       "    <tr>\n",
       "      <th>date</th>\n",
       "      <th></th>\n",
       "      <th></th>\n",
       "      <th></th>\n",
       "      <th></th>\n",
       "      <th></th>\n",
       "    </tr>\n",
       "  </thead>\n",
       "  <tbody>\n",
       "    <tr>\n",
       "      <th>2024-11-18T00:00:00</th>\n",
       "      <td>207.00</td>\n",
       "      <td>208.4150</td>\n",
       "      <td>205.3701</td>\n",
       "      <td>208.09</td>\n",
       "      <td>3406045.0</td>\n",
       "    </tr>\n",
       "    <tr>\n",
       "      <th>2024-11-15T00:00:00</th>\n",
       "      <td>207.46</td>\n",
       "      <td>208.4900</td>\n",
       "      <td>204.0700</td>\n",
       "      <td>204.99</td>\n",
       "      <td>3986460.0</td>\n",
       "    </tr>\n",
       "    <tr>\n",
       "      <th>2024-11-14T00:00:00</th>\n",
       "      <td>210.00</td>\n",
       "      <td>210.4999</td>\n",
       "      <td>206.3500</td>\n",
       "      <td>208.99</td>\n",
       "      <td>6372853.0</td>\n",
       "    </tr>\n",
       "    <tr>\n",
       "      <th>2024-11-13T00:00:00</th>\n",
       "      <td>209.50</td>\n",
       "      <td>211.4100</td>\n",
       "      <td>209.0701</td>\n",
       "      <td>210.92</td>\n",
       "      <td>3247830.0</td>\n",
       "    </tr>\n",
       "    <tr>\n",
       "      <th>2024-11-12T00:00:00</th>\n",
       "      <td>211.90</td>\n",
       "      <td>213.0300</td>\n",
       "      <td>209.0600</td>\n",
       "      <td>210.86</td>\n",
       "      <td>2818216.0</td>\n",
       "    </tr>\n",
       "  </tbody>\n",
       "</table>\n",
       "</div>"
      ],
      "text/plain": [
       "                       open      high       low   close     volume\n",
       "date                                                              \n",
       "2024-11-18T00:00:00  207.00  208.4150  205.3701  208.09  3406045.0\n",
       "2024-11-15T00:00:00  207.46  208.4900  204.0700  204.99  3986460.0\n",
       "2024-11-14T00:00:00  210.00  210.4999  206.3500  208.99  6372853.0\n",
       "2024-11-13T00:00:00  209.50  211.4100  209.0701  210.92  3247830.0\n",
       "2024-11-12T00:00:00  211.90  213.0300  209.0600  210.86  2818216.0"
      ]
     },
     "execution_count": 110,
     "metadata": {},
     "output_type": "execute_result"
    }
   ],
   "source": [
    "df_IBM.head()"
   ]
  },
  {
   "cell_type": "code",
   "execution_count": 111,
   "id": "55f167a2",
   "metadata": {},
   "outputs": [],
   "source": [
    "df_IBM.index = pd.to_datetime(df_IBM.index, format='ISO8601')"
   ]
  },
  {
   "cell_type": "code",
   "execution_count": 112,
   "id": "6f5dfea4",
   "metadata": {},
   "outputs": [
    {
     "data": {
      "text/html": [
       "<div>\n",
       "<style scoped>\n",
       "    .dataframe tbody tr th:only-of-type {\n",
       "        vertical-align: middle;\n",
       "    }\n",
       "\n",
       "    .dataframe tbody tr th {\n",
       "        vertical-align: top;\n",
       "    }\n",
       "\n",
       "    .dataframe thead th {\n",
       "        text-align: right;\n",
       "    }\n",
       "</style>\n",
       "<table border=\"1\" class=\"dataframe\">\n",
       "  <thead>\n",
       "    <tr style=\"text-align: right;\">\n",
       "      <th></th>\n",
       "      <th>open</th>\n",
       "      <th>high</th>\n",
       "      <th>low</th>\n",
       "      <th>close</th>\n",
       "      <th>volume</th>\n",
       "    </tr>\n",
       "    <tr>\n",
       "      <th>date</th>\n",
       "      <th></th>\n",
       "      <th></th>\n",
       "      <th></th>\n",
       "      <th></th>\n",
       "      <th></th>\n",
       "    </tr>\n",
       "  </thead>\n",
       "  <tbody>\n",
       "    <tr>\n",
       "      <th>2024-11-18</th>\n",
       "      <td>207.00</td>\n",
       "      <td>208.4150</td>\n",
       "      <td>205.3701</td>\n",
       "      <td>208.09</td>\n",
       "      <td>3406045.0</td>\n",
       "    </tr>\n",
       "    <tr>\n",
       "      <th>2024-11-15</th>\n",
       "      <td>207.46</td>\n",
       "      <td>208.4900</td>\n",
       "      <td>204.0700</td>\n",
       "      <td>204.99</td>\n",
       "      <td>3986460.0</td>\n",
       "    </tr>\n",
       "    <tr>\n",
       "      <th>2024-11-14</th>\n",
       "      <td>210.00</td>\n",
       "      <td>210.4999</td>\n",
       "      <td>206.3500</td>\n",
       "      <td>208.99</td>\n",
       "      <td>6372853.0</td>\n",
       "    </tr>\n",
       "    <tr>\n",
       "      <th>2024-11-13</th>\n",
       "      <td>209.50</td>\n",
       "      <td>211.4100</td>\n",
       "      <td>209.0701</td>\n",
       "      <td>210.92</td>\n",
       "      <td>3247830.0</td>\n",
       "    </tr>\n",
       "    <tr>\n",
       "      <th>2024-11-12</th>\n",
       "      <td>211.90</td>\n",
       "      <td>213.0300</td>\n",
       "      <td>209.0600</td>\n",
       "      <td>210.86</td>\n",
       "      <td>2818216.0</td>\n",
       "    </tr>\n",
       "  </tbody>\n",
       "</table>\n",
       "</div>"
      ],
      "text/plain": [
       "              open      high       low   close     volume\n",
       "date                                                     \n",
       "2024-11-18  207.00  208.4150  205.3701  208.09  3406045.0\n",
       "2024-11-15  207.46  208.4900  204.0700  204.99  3986460.0\n",
       "2024-11-14  210.00  210.4999  206.3500  208.99  6372853.0\n",
       "2024-11-13  209.50  211.4100  209.0701  210.92  3247830.0\n",
       "2024-11-12  211.90  213.0300  209.0600  210.86  2818216.0"
      ]
     },
     "execution_count": 112,
     "metadata": {},
     "output_type": "execute_result"
    }
   ],
   "source": [
    "df_IBM.head()"
   ]
  },
  {
   "cell_type": "code",
   "execution_count": 113,
   "id": "fb85373f",
   "metadata": {},
   "outputs": [
    {
     "name": "stdout",
     "output_type": "stream",
     "text": [
      "<class 'pandas.core.frame.DataFrame'>\n",
      "DatetimeIndex: 6303 entries, 2024-11-18 to 1999-11-01\n",
      "Data columns (total 5 columns):\n",
      " #   Column  Non-Null Count  Dtype  \n",
      "---  ------  --------------  -----  \n",
      " 0   open    6303 non-null   float64\n",
      " 1   high    6303 non-null   float64\n",
      " 2   low     6303 non-null   float64\n",
      " 3   close   6303 non-null   float64\n",
      " 4   volume  6303 non-null   float64\n",
      "dtypes: float64(5)\n",
      "memory usage: 295.5 KB\n"
     ]
    }
   ],
   "source": [
    "df_IBM.info()"
   ]
  },
  {
   "cell_type": "code",
   "execution_count": 15,
   "id": "b598b17d",
   "metadata": {},
   "outputs": [],
   "source": [
    "df_IBM.sort_index(inplace=True)"
   ]
  },
  {
   "cell_type": "code",
   "execution_count": 16,
   "id": "f42fd695",
   "metadata": {},
   "outputs": [
    {
     "data": {
      "image/png": "[encoded data removed]",
      "text/plain": [
       "<Figure size 640x480 with 1 Axes>"
      ]
     },
     "metadata": {},
     "output_type": "display_data"
    }
   ],
   "source": [
    "df_IBM['close'].plot();"
   ]
  },
  {
   "cell_type": "markdown",
   "id": "4e9b8e5b",
   "metadata": {},
   "source": [
    "# Calculate Returns"
   ]
  },
  {
   "cell_type": "code",
   "execution_count": 17,
   "id": "fea92ab2",
   "metadata": {},
   "outputs": [],
   "source": [
    "df_IBM['returns'] = np.log(df_IBM['close'] / df_IBM['close'].shift(1))*100\n",
    "# df_IBM['returns'] = df_IBM[\"close\"].pct_change()*100"
   ]
  },
  {
   "cell_type": "code",
   "execution_count": 18,
   "id": "cdf6e485",
   "metadata": {},
   "outputs": [
    {
     "data": {
      "text/plain": [
       "date\n",
       "1999-11-01     96.75\n",
       "1999-11-02     94.81\n",
       "1999-11-03     94.37\n",
       "1999-11-04     91.56\n",
       "1999-11-05     90.25\n",
       "               ...  \n",
       "2024-11-12    210.86\n",
       "2024-11-13    210.92\n",
       "2024-11-14    208.99\n",
       "2024-11-15    204.99\n",
       "2024-11-18    208.09\n",
       "Name: close, Length: 6303, dtype: float64"
      ]
     },
     "execution_count": 18,
     "metadata": {},
     "output_type": "execute_result"
    }
   ],
   "source": [
    "df_IBM[\"close\"]"
   ]
  },
  {
   "cell_type": "code",
   "execution_count": 19,
   "id": "55cc82d8",
   "metadata": {},
   "outputs": [
    {
     "data": {
      "text/plain": [
       "date\n",
       "1999-11-01         NaN\n",
       "1999-11-02   -2.025544\n",
       "1999-11-03   -0.465166\n",
       "1999-11-04   -3.022873\n",
       "1999-11-05   -1.441090\n",
       "                ...   \n",
       "2024-11-12   -1.277024\n",
       "2024-11-13    0.028451\n",
       "2024-11-14   -0.919251\n",
       "2024-11-15   -1.932521\n",
       "2024-11-18    1.500948\n",
       "Name: returns, Length: 6303, dtype: float64"
      ]
     },
     "execution_count": 19,
     "metadata": {},
     "output_type": "execute_result"
    }
   ],
   "source": [
    "df_IBM[\"returns\"]"
   ]
  },
  {
   "cell_type": "code",
   "execution_count": 20,
   "id": "e22eee03",
   "metadata": {},
   "outputs": [
    {
     "data": {
      "image/png": "[encoded data removed]",
      "text/plain": [
       "<Figure size 640x480 with 1 Axes>"
      ]
     },
     "metadata": {},
     "output_type": "display_data"
    }
   ],
   "source": [
    "df_IBM[\"returns\"].dropna().plot();"
   ]
  },
  {
   "cell_type": "code",
   "execution_count": 21,
   "id": "6b3dc9a3",
   "metadata": {},
   "outputs": [],
   "source": [
    "vol=df_IBM[\"returns\"].rolling(30).std().dropna()"
   ]
  },
  {
   "cell_type": "code",
   "execution_count": 22,
   "id": "1b8169b7",
   "metadata": {},
   "outputs": [
    {
     "data": {
      "image/png": "[encoded data removed]",
      "text/plain": [
       "<Figure size 640x480 with 1 Axes>"
      ]
     },
     "metadata": {},
     "output_type": "display_data"
    }
   ],
   "source": [
    "(vol).plot();"
   ]
  },
  {
   "cell_type": "code",
   "execution_count": 23,
   "id": "70f742f5",
   "metadata": {},
   "outputs": [
    {
     "data": {
      "text/plain": [
       "[<matplotlib.lines.Line2D at 0x160a75c50>]"
      ]
     },
     "execution_count": 23,
     "metadata": {},
     "output_type": "execute_result"
    },
    {
     "data": {
      "image/png": "[encoded data removed]",
      "text/plain": [
       "<Figure size 640x480 with 1 Axes>"
      ]
     },
     "metadata": {},
     "output_type": "display_data"
    }
   ],
   "source": [
    "plt.plot(df_IBM[\"returns\"].dropna())\n",
    "plt.plot(2*vol, color=\"orange\" )\n",
    "plt.plot(-2*vol, color=\"orange\" )"
   ]
  },
  {
   "cell_type": "markdown",
   "id": "c8d8571b",
   "metadata": {},
   "source": [
    "# Train test split"
   ]
  },
  {
   "cell_type": "code",
   "execution_count": 24,
   "id": "9213d697",
   "metadata": {},
   "outputs": [],
   "source": [
    "y = df_IBM[\"returns\"].dropna()\n",
    "cutoff = int(0.8*len(y))"
   ]
  },
  {
   "cell_type": "code",
   "execution_count": 25,
   "id": "4900b31c",
   "metadata": {},
   "outputs": [
    {
     "data": {
      "text/plain": [
       "date\n",
       "1999-11-02   -2.025544\n",
       "1999-11-03   -0.465166\n",
       "1999-11-04   -3.022873\n",
       "1999-11-05   -1.441090\n",
       "1999-11-08    4.007268\n",
       "                ...   \n",
       "2019-11-07   -0.788516\n",
       "2019-11-08   -0.058118\n",
       "2019-11-11   -1.567338\n",
       "2019-11-12    0.088541\n",
       "2019-11-13   -0.822014\n",
       "Name: returns, Length: 5041, dtype: float64"
      ]
     },
     "execution_count": 25,
     "metadata": {},
     "output_type": "execute_result"
    }
   ],
   "source": [
    "y_train = y.iloc[:cutoff]\n",
    "y_train"
   ]
  },
  {
   "cell_type": "code",
   "execution_count": 26,
   "id": "aba83eb4",
   "metadata": {},
   "outputs": [
    {
     "data": {
      "text/plain": [
       "date\n",
       "2019-11-14   -0.357569\n",
       "2019-11-15    0.298063\n",
       "2019-11-18   -0.066987\n",
       "2019-11-19    0.156233\n",
       "2019-11-20   -0.986113\n",
       "                ...   \n",
       "2024-11-12   -1.277024\n",
       "2024-11-13    0.028451\n",
       "2024-11-14   -0.919251\n",
       "2024-11-15   -1.932521\n",
       "2024-11-18    1.500948\n",
       "Name: returns, Length: 1261, dtype: float64"
      ]
     },
     "execution_count": 26,
     "metadata": {},
     "output_type": "execute_result"
    }
   ],
   "source": [
    "y_test = y.iloc[cutoff:]\n",
    "y_test"
   ]
  },
  {
   "cell_type": "markdown",
   "id": "e6dae7ee",
   "metadata": {},
   "source": [
    "# GARCH model prediction"
   ]
  },
  {
   "cell_type": "code",
   "execution_count": 27,
   "id": "9a352aca",
   "metadata": {},
   "outputs": [],
   "source": [
    "model = arch_model(y_train,p=1,q=1)"
   ]
  },
  {
   "cell_type": "code",
   "execution_count": 28,
   "id": "15238339",
   "metadata": {},
   "outputs": [],
   "source": [
    "res = model.fit(disp=0)"
   ]
  },
  {
   "cell_type": "code",
   "execution_count": 29,
   "id": "e7b7bbd9",
   "metadata": {},
   "outputs": [
    {
     "name": "stdout",
     "output_type": "stream",
     "text": [
      "                     Constant Mean - GARCH Model Results                      \n",
      "==============================================================================\n",
      "Dep. Variable:                returns   R-squared:                       0.000\n",
      "Mean Model:             Constant Mean   Adj. R-squared:                  0.000\n",
      "Vol Model:                      GARCH   Log-Likelihood:               -8868.89\n",
      "Distribution:                  Normal   AIC:                           17745.8\n",
      "Method:            Maximum Likelihood   BIC:                           17771.9\n",
      "                                        No. Observations:                 5041\n",
      "Date:                Fri, Nov 29 2024   Df Residuals:                     5040\n",
      "Time:                        11:11:37   Df Model:                            1\n",
      "                                  Mean Model                                 \n",
      "=============================================================================\n",
      "                 coef    std err          t      P>|t|       95.0% Conf. Int.\n",
      "-----------------------------------------------------------------------------\n",
      "mu             0.0303  1.915e-02      1.582      0.114 [-7.236e-03,6.784e-02]\n",
      "                             Volatility Model                             \n",
      "==========================================================================\n",
      "                 coef    std err          t      P>|t|    95.0% Conf. Int.\n",
      "--------------------------------------------------------------------------\n",
      "omega          0.0834  3.121e-02      2.672  7.543e-03 [2.222e-02,  0.145]\n",
      "alpha[1]       0.1009  3.215e-02      3.138  1.701e-03 [3.787e-02,  0.164]\n",
      "beta[1]        0.8660  3.902e-02     22.195 3.876e-109   [  0.789,  0.942]\n",
      "==========================================================================\n",
      "\n",
      "Covariance estimator: robust\n"
     ]
    }
   ],
   "source": [
    "print(res.summary())"
   ]
  },
  {
   "cell_type": "code",
   "execution_count": 30,
   "id": "60b6ae97",
   "metadata": {},
   "outputs": [],
   "source": [
    "h_size= y_test.shape[0]"
   ]
  },
  {
   "cell_type": "code",
   "execution_count": 31,
   "id": "3a321015",
   "metadata": {},
   "outputs": [
    {
     "data": {
      "text/plain": [
       "array([1.22548913, 1.23911049, 1.25213914, ..., 1.58552637, 1.58552637,\n",
       "       1.58552637])"
      ]
     },
     "execution_count": 31,
     "metadata": {},
     "output_type": "execute_result"
    }
   ],
   "source": [
    "forecasts = res.forecast(horizon=h_size)\n",
    "pred_vol = (forecasts.variance.values[0])**0.5\n",
    "pred_vol"
   ]
  },
  {
   "cell_type": "code",
   "execution_count": 32,
   "id": "fc2067d8",
   "metadata": {},
   "outputs": [
    {
     "data": {
      "image/png": "[encoded data removed]",
      "text/plain": [
       "<Figure size 640x480 with 1 Axes>"
      ]
     },
     "metadata": {},
     "output_type": "display_data"
    }
   ],
   "source": [
    "plt.plot(df_IBM[\"returns\"].iloc[-len(y_test):])\n",
    "plt.plot(y_test.index[:h_size],pred_vol);"
   ]
  },
  {
   "cell_type": "markdown",
   "id": "ec73278d",
   "metadata": {},
   "source": [
    "# GARCH model walk forward prediction"
   ]
  },
  {
   "cell_type": "code",
   "execution_count": 33,
   "id": "2fd0b41b",
   "metadata": {},
   "outputs": [],
   "source": [
    "w_fwd_pred=[]\n",
    "\n",
    "for i in range(y_test.shape[0]):\n",
    "    y_train = df_IBM[\"returns\"].iloc[1:-(y_test.shape[0]-i)]\n",
    "    model = arch_model(y_train, p=1, q=1, rescale=False)\n",
    "    res= model.fit(disp=0)\n",
    "    forecasts = res.forecast(horizon=1)\n",
    "    pred_vol = (forecasts.variance.values[-1,:][0])**0.5\n",
    "    w_fwd_pred.append(pred_vol)\n",
    "    "
   ]
  },
  {
   "cell_type": "code",
   "execution_count": 34,
   "id": "17a29c75",
   "metadata": {},
   "outputs": [],
   "source": [
    "w_fwd_vol = pd.Series(w_fwd_pred, index=y_test.index)"
   ]
  },
  {
   "cell_type": "code",
   "execution_count": 35,
   "id": "79e5b9a1",
   "metadata": {},
   "outputs": [],
   "source": [
    "window=21\n",
    "test_vol = df_IBM[\"returns\"].rolling(window).std().dropna()"
   ]
  },
  {
   "cell_type": "code",
   "execution_count": 36,
   "id": "7c5e70a8",
   "metadata": {},
   "outputs": [],
   "source": [
    "test_vol = test_vol.iloc[-y_test.shape[0]:]"
   ]
  },
  {
   "cell_type": "code",
   "execution_count": 37,
   "id": "77b5f957",
   "metadata": {},
   "outputs": [
    {
     "data": {
      "text/plain": [
       "1261"
      ]
     },
     "execution_count": 37,
     "metadata": {},
     "output_type": "execute_result"
    }
   ],
   "source": [
    "len(test_vol)"
   ]
  },
  {
   "cell_type": "code",
   "execution_count": 38,
   "id": "3bdc8e5a",
   "metadata": {},
   "outputs": [
    {
     "data": {
      "text/plain": [
       "1261"
      ]
     },
     "execution_count": 38,
     "metadata": {},
     "output_type": "execute_result"
    }
   ],
   "source": [
    "len(w_fwd_vol)"
   ]
  },
  {
   "cell_type": "code",
   "execution_count": 39,
   "id": "b1bbe271",
   "metadata": {},
   "outputs": [
    {
     "data": {
      "image/png": "[encoded data removed]",
      "text/plain": [
       "<Figure size 640x480 with 1 Axes>"
      ]
     },
     "metadata": {},
     "output_type": "display_data"
    }
   ],
   "source": [
    "plt.plot(df_IBM[\"returns\"].iloc[-len(y_test):], color=\"lightgray\", label=\"Log Returns\")\n",
    "plt.plot(w_fwd_vol, color=\"black\", label=\"Predicted Volatility\")\n",
    "plt.plot(test_vol, color=\"red\", label=\"Actual Volatility\")\n",
    "plt.legend();"
   ]
  },
  {
   "cell_type": "code",
   "execution_count": 75,
   "id": "a9543808",
   "metadata": {},
   "outputs": [
    {
     "data": {
      "text/plain": [
       "0.82"
      ]
     },
     "execution_count": 75,
     "metadata": {},
     "output_type": "execute_result"
    }
   ],
   "source": [
    "R2 = r2_score(test_vol, w_fwd_vol)\n",
    "round(R2,2)"
   ]
  },
  {
   "cell_type": "code",
   "execution_count": 74,
   "id": "52b5efb2",
   "metadata": {},
   "outputs": [
    {
     "data": {
      "text/plain": [
       "0.26"
      ]
     },
     "execution_count": 74,
     "metadata": {},
     "output_type": "execute_result"
    }
   ],
   "source": [
    "MAE = mean_absolute_error(test_vol, w_fwd_vol)\n",
    "round(MAE,2)"
   ]
  },
  {
   "cell_type": "code",
   "execution_count": 76,
   "id": "bb4fe224",
   "metadata": {},
   "outputs": [
    {
     "data": {
      "text/plain": [
       "0.12"
      ]
     },
     "execution_count": 76,
     "metadata": {},
     "output_type": "execute_result"
    }
   ],
   "source": [
    "MSE = mean_squared_error(test_vol, w_fwd_vol)\n",
    "round(MSE,2)"
   ]
  },
  {
   "cell_type": "markdown",
   "id": "8b7a6d71",
   "metadata": {},
   "source": [
    "# Simple LSTM model"
   ]
  },
  {
   "cell_type": "code",
   "execution_count": 44,
   "id": "a39f1926",
   "metadata": {},
   "outputs": [],
   "source": [
    "from tensorflow.keras.models import Sequential\n",
    "from tensorflow.keras.layers import LSTM, Dense"
   ]
  },
  {
   "cell_type": "code",
   "execution_count": 45,
   "id": "d63dbc44",
   "metadata": {},
   "outputs": [
    {
     "data": {
      "text/html": [
       "<div>\n",
       "<style scoped>\n",
       "    .dataframe tbody tr th:only-of-type {\n",
       "        vertical-align: middle;\n",
       "    }\n",
       "\n",
       "    .dataframe tbody tr th {\n",
       "        vertical-align: top;\n",
       "    }\n",
       "\n",
       "    .dataframe thead th {\n",
       "        text-align: right;\n",
       "    }\n",
       "</style>\n",
       "<table border=\"1\" class=\"dataframe\">\n",
       "  <thead>\n",
       "    <tr style=\"text-align: right;\">\n",
       "      <th></th>\n",
       "      <th>open</th>\n",
       "      <th>high</th>\n",
       "      <th>low</th>\n",
       "      <th>close</th>\n",
       "      <th>volume</th>\n",
       "      <th>returns</th>\n",
       "    </tr>\n",
       "    <tr>\n",
       "      <th>date</th>\n",
       "      <th></th>\n",
       "      <th></th>\n",
       "      <th></th>\n",
       "      <th></th>\n",
       "      <th></th>\n",
       "      <th></th>\n",
       "    </tr>\n",
       "  </thead>\n",
       "  <tbody>\n",
       "    <tr>\n",
       "      <th>1999-11-01</th>\n",
       "      <td>98.50</td>\n",
       "      <td>98.8100</td>\n",
       "      <td>96.3700</td>\n",
       "      <td>96.75</td>\n",
       "      <td>9551800.0</td>\n",
       "      <td>NaN</td>\n",
       "    </tr>\n",
       "    <tr>\n",
       "      <th>1999-11-02</th>\n",
       "      <td>96.75</td>\n",
       "      <td>96.8100</td>\n",
       "      <td>93.6900</td>\n",
       "      <td>94.81</td>\n",
       "      <td>11105400.0</td>\n",
       "      <td>-2.025544</td>\n",
       "    </tr>\n",
       "    <tr>\n",
       "      <th>1999-11-03</th>\n",
       "      <td>95.87</td>\n",
       "      <td>95.9400</td>\n",
       "      <td>93.5000</td>\n",
       "      <td>94.37</td>\n",
       "      <td>10369100.0</td>\n",
       "      <td>-0.465166</td>\n",
       "    </tr>\n",
       "    <tr>\n",
       "      <th>1999-11-04</th>\n",
       "      <td>94.44</td>\n",
       "      <td>94.4400</td>\n",
       "      <td>90.0000</td>\n",
       "      <td>91.56</td>\n",
       "      <td>16697600.0</td>\n",
       "      <td>-3.022873</td>\n",
       "    </tr>\n",
       "    <tr>\n",
       "      <th>1999-11-05</th>\n",
       "      <td>92.75</td>\n",
       "      <td>92.9400</td>\n",
       "      <td>90.1900</td>\n",
       "      <td>90.25</td>\n",
       "      <td>13737600.0</td>\n",
       "      <td>-1.441090</td>\n",
       "    </tr>\n",
       "    <tr>\n",
       "      <th>...</th>\n",
       "      <td>...</td>\n",
       "      <td>...</td>\n",
       "      <td>...</td>\n",
       "      <td>...</td>\n",
       "      <td>...</td>\n",
       "      <td>...</td>\n",
       "    </tr>\n",
       "    <tr>\n",
       "      <th>2024-11-12</th>\n",
       "      <td>211.90</td>\n",
       "      <td>213.0300</td>\n",
       "      <td>209.0600</td>\n",
       "      <td>210.86</td>\n",
       "      <td>2818216.0</td>\n",
       "      <td>-1.277024</td>\n",
       "    </tr>\n",
       "    <tr>\n",
       "      <th>2024-11-13</th>\n",
       "      <td>209.50</td>\n",
       "      <td>211.4100</td>\n",
       "      <td>209.0701</td>\n",
       "      <td>210.92</td>\n",
       "      <td>3247830.0</td>\n",
       "      <td>0.028451</td>\n",
       "    </tr>\n",
       "    <tr>\n",
       "      <th>2024-11-14</th>\n",
       "      <td>210.00</td>\n",
       "      <td>210.4999</td>\n",
       "      <td>206.3500</td>\n",
       "      <td>208.99</td>\n",
       "      <td>6372853.0</td>\n",
       "      <td>-0.919251</td>\n",
       "    </tr>\n",
       "    <tr>\n",
       "      <th>2024-11-15</th>\n",
       "      <td>207.46</td>\n",
       "      <td>208.4900</td>\n",
       "      <td>204.0700</td>\n",
       "      <td>204.99</td>\n",
       "      <td>3986460.0</td>\n",
       "      <td>-1.932521</td>\n",
       "    </tr>\n",
       "    <tr>\n",
       "      <th>2024-11-18</th>\n",
       "      <td>207.00</td>\n",
       "      <td>208.4150</td>\n",
       "      <td>205.3701</td>\n",
       "      <td>208.09</td>\n",
       "      <td>3406045.0</td>\n",
       "      <td>1.500948</td>\n",
       "    </tr>\n",
       "  </tbody>\n",
       "</table>\n",
       "<p>6303 rows × 6 columns</p>\n",
       "</div>"
      ],
      "text/plain": [
       "              open      high       low   close      volume   returns\n",
       "date                                                                \n",
       "1999-11-01   98.50   98.8100   96.3700   96.75   9551800.0       NaN\n",
       "1999-11-02   96.75   96.8100   93.6900   94.81  11105400.0 -2.025544\n",
       "1999-11-03   95.87   95.9400   93.5000   94.37  10369100.0 -0.465166\n",
       "1999-11-04   94.44   94.4400   90.0000   91.56  16697600.0 -3.022873\n",
       "1999-11-05   92.75   92.9400   90.1900   90.25  13737600.0 -1.441090\n",
       "...            ...       ...       ...     ...         ...       ...\n",
       "2024-11-12  211.90  213.0300  209.0600  210.86   2818216.0 -1.277024\n",
       "2024-11-13  209.50  211.4100  209.0701  210.92   3247830.0  0.028451\n",
       "2024-11-14  210.00  210.4999  206.3500  208.99   6372853.0 -0.919251\n",
       "2024-11-15  207.46  208.4900  204.0700  204.99   3986460.0 -1.932521\n",
       "2024-11-18  207.00  208.4150  205.3701  208.09   3406045.0  1.500948\n",
       "\n",
       "[6303 rows x 6 columns]"
      ]
     },
     "execution_count": 45,
     "metadata": {},
     "output_type": "execute_result"
    }
   ],
   "source": [
    "df_IBM"
   ]
  },
  {
   "cell_type": "code",
   "execution_count": 46,
   "id": "dd7d1600",
   "metadata": {},
   "outputs": [],
   "source": [
    "df_IBM[\"rolling_volatility\"] = df_IBM[\"returns\"].rolling(window=21).std()"
   ]
  },
  {
   "cell_type": "code",
   "execution_count": 47,
   "id": "ccd3e720",
   "metadata": {},
   "outputs": [],
   "source": [
    "df_IBM.dropna(inplace=True)"
   ]
  },
  {
   "cell_type": "code",
   "execution_count": 48,
   "id": "08578b87",
   "metadata": {},
   "outputs": [
    {
     "data": {
      "text/html": [
       "<div>\n",
       "<style scoped>\n",
       "    .dataframe tbody tr th:only-of-type {\n",
       "        vertical-align: middle;\n",
       "    }\n",
       "\n",
       "    .dataframe tbody tr th {\n",
       "        vertical-align: top;\n",
       "    }\n",
       "\n",
       "    .dataframe thead th {\n",
       "        text-align: right;\n",
       "    }\n",
       "</style>\n",
       "<table border=\"1\" class=\"dataframe\">\n",
       "  <thead>\n",
       "    <tr style=\"text-align: right;\">\n",
       "      <th></th>\n",
       "      <th>open</th>\n",
       "      <th>high</th>\n",
       "      <th>low</th>\n",
       "      <th>close</th>\n",
       "      <th>volume</th>\n",
       "      <th>returns</th>\n",
       "      <th>rolling_volatility</th>\n",
       "    </tr>\n",
       "    <tr>\n",
       "      <th>date</th>\n",
       "      <th></th>\n",
       "      <th></th>\n",
       "      <th></th>\n",
       "      <th></th>\n",
       "      <th></th>\n",
       "      <th></th>\n",
       "      <th></th>\n",
       "    </tr>\n",
       "  </thead>\n",
       "  <tbody>\n",
       "    <tr>\n",
       "      <th>1999-12-01</th>\n",
       "      <td>102.56</td>\n",
       "      <td>104.44</td>\n",
       "      <td>102.25</td>\n",
       "      <td>103.42</td>\n",
       "      <td>5336400.0</td>\n",
       "      <td>0.348702</td>\n",
       "      <td>2.524261</td>\n",
       "    </tr>\n",
       "    <tr>\n",
       "      <th>1999-12-02</th>\n",
       "      <td>103.44</td>\n",
       "      <td>106.31</td>\n",
       "      <td>103.37</td>\n",
       "      <td>105.27</td>\n",
       "      <td>6216900.0</td>\n",
       "      <td>1.773011</td>\n",
       "      <td>2.483744</td>\n",
       "    </tr>\n",
       "    <tr>\n",
       "      <th>1999-12-03</th>\n",
       "      <td>109.81</td>\n",
       "      <td>112.87</td>\n",
       "      <td>107.94</td>\n",
       "      <td>111.87</td>\n",
       "      <td>14680300.0</td>\n",
       "      <td>6.080900</td>\n",
       "      <td>2.752959</td>\n",
       "    </tr>\n",
       "    <tr>\n",
       "      <th>1999-12-06</th>\n",
       "      <td>113.00</td>\n",
       "      <td>116.50</td>\n",
       "      <td>112.50</td>\n",
       "      <td>116.00</td>\n",
       "      <td>9928300.0</td>\n",
       "      <td>3.625271</td>\n",
       "      <td>2.671188</td>\n",
       "    </tr>\n",
       "    <tr>\n",
       "      <th>1999-12-07</th>\n",
       "      <td>117.00</td>\n",
       "      <td>119.19</td>\n",
       "      <td>115.44</td>\n",
       "      <td>116.62</td>\n",
       "      <td>11326100.0</td>\n",
       "      <td>0.533059</td>\n",
       "      <td>2.610349</td>\n",
       "    </tr>\n",
       "  </tbody>\n",
       "</table>\n",
       "</div>"
      ],
      "text/plain": [
       "              open    high     low   close      volume   returns  \\\n",
       "date                                                               \n",
       "1999-12-01  102.56  104.44  102.25  103.42   5336400.0  0.348702   \n",
       "1999-12-02  103.44  106.31  103.37  105.27   6216900.0  1.773011   \n",
       "1999-12-03  109.81  112.87  107.94  111.87  14680300.0  6.080900   \n",
       "1999-12-06  113.00  116.50  112.50  116.00   9928300.0  3.625271   \n",
       "1999-12-07  117.00  119.19  115.44  116.62  11326100.0  0.533059   \n",
       "\n",
       "            rolling_volatility  \n",
       "date                            \n",
       "1999-12-01            2.524261  \n",
       "1999-12-02            2.483744  \n",
       "1999-12-03            2.752959  \n",
       "1999-12-06            2.671188  \n",
       "1999-12-07            2.610349  "
      ]
     },
     "execution_count": 48,
     "metadata": {},
     "output_type": "execute_result"
    }
   ],
   "source": [
    "df_IBM.head()"
   ]
  },
  {
   "cell_type": "code",
   "execution_count": 49,
   "id": "a0f262f6",
   "metadata": {},
   "outputs": [
    {
     "data": {
      "image/png": "[encoded data removed]",
      "text/plain": [
       "<Figure size 640x480 with 1 Axes>"
      ]
     },
     "metadata": {},
     "output_type": "display_data"
    }
   ],
   "source": [
    "plt.plot(df_IBM['returns'])\n",
    "plt.plot(df_IBM['rolling_volatility']);"
   ]
  },
  {
   "cell_type": "markdown",
   "id": "5a44516f",
   "metadata": {},
   "source": [
    "## Train-test split"
   ]
  },
  {
   "cell_type": "code",
   "execution_count": 61,
   "id": "139a1ec3",
   "metadata": {},
   "outputs": [],
   "source": [
    "cut_off= int(len(df_IBM)*0.8)"
   ]
  },
  {
   "cell_type": "code",
   "execution_count": 62,
   "id": "1278a585",
   "metadata": {},
   "outputs": [],
   "source": [
    "target = [\"rolling_volatility\"]\n",
    "X = df_IBM.drop(columns=target)\n",
    "y=df_IBM[target]"
   ]
  },
  {
   "cell_type": "code",
   "execution_count": 63,
   "id": "a6c35386",
   "metadata": {},
   "outputs": [
    {
     "data": {
      "text/html": [
       "<div>\n",
       "<style scoped>\n",
       "    .dataframe tbody tr th:only-of-type {\n",
       "        vertical-align: middle;\n",
       "    }\n",
       "\n",
       "    .dataframe tbody tr th {\n",
       "        vertical-align: top;\n",
       "    }\n",
       "\n",
       "    .dataframe thead th {\n",
       "        text-align: right;\n",
       "    }\n",
       "</style>\n",
       "<table border=\"1\" class=\"dataframe\">\n",
       "  <thead>\n",
       "    <tr style=\"text-align: right;\">\n",
       "      <th></th>\n",
       "      <th>open</th>\n",
       "      <th>high</th>\n",
       "      <th>low</th>\n",
       "      <th>close</th>\n",
       "      <th>volume</th>\n",
       "      <th>returns</th>\n",
       "    </tr>\n",
       "    <tr>\n",
       "      <th>date</th>\n",
       "      <th></th>\n",
       "      <th></th>\n",
       "      <th></th>\n",
       "      <th></th>\n",
       "      <th></th>\n",
       "      <th></th>\n",
       "    </tr>\n",
       "  </thead>\n",
       "  <tbody>\n",
       "    <tr>\n",
       "      <th>1999-12-01</th>\n",
       "      <td>102.56</td>\n",
       "      <td>104.44</td>\n",
       "      <td>102.25</td>\n",
       "      <td>103.42</td>\n",
       "      <td>5336400.0</td>\n",
       "      <td>0.348702</td>\n",
       "    </tr>\n",
       "    <tr>\n",
       "      <th>1999-12-02</th>\n",
       "      <td>103.44</td>\n",
       "      <td>106.31</td>\n",
       "      <td>103.37</td>\n",
       "      <td>105.27</td>\n",
       "      <td>6216900.0</td>\n",
       "      <td>1.773011</td>\n",
       "    </tr>\n",
       "    <tr>\n",
       "      <th>1999-12-03</th>\n",
       "      <td>109.81</td>\n",
       "      <td>112.87</td>\n",
       "      <td>107.94</td>\n",
       "      <td>111.87</td>\n",
       "      <td>14680300.0</td>\n",
       "      <td>6.080900</td>\n",
       "    </tr>\n",
       "    <tr>\n",
       "      <th>1999-12-06</th>\n",
       "      <td>113.00</td>\n",
       "      <td>116.50</td>\n",
       "      <td>112.50</td>\n",
       "      <td>116.00</td>\n",
       "      <td>9928300.0</td>\n",
       "      <td>3.625271</td>\n",
       "    </tr>\n",
       "    <tr>\n",
       "      <th>1999-12-07</th>\n",
       "      <td>117.00</td>\n",
       "      <td>119.19</td>\n",
       "      <td>115.44</td>\n",
       "      <td>116.62</td>\n",
       "      <td>11326100.0</td>\n",
       "      <td>0.533059</td>\n",
       "    </tr>\n",
       "  </tbody>\n",
       "</table>\n",
       "</div>"
      ],
      "text/plain": [
       "              open    high     low   close      volume   returns\n",
       "date                                                            \n",
       "1999-12-01  102.56  104.44  102.25  103.42   5336400.0  0.348702\n",
       "1999-12-02  103.44  106.31  103.37  105.27   6216900.0  1.773011\n",
       "1999-12-03  109.81  112.87  107.94  111.87  14680300.0  6.080900\n",
       "1999-12-06  113.00  116.50  112.50  116.00   9928300.0  3.625271\n",
       "1999-12-07  117.00  119.19  115.44  116.62  11326100.0  0.533059"
      ]
     },
     "execution_count": 63,
     "metadata": {},
     "output_type": "execute_result"
    }
   ],
   "source": [
    "X.head()"
   ]
  },
  {
   "cell_type": "code",
   "execution_count": 64,
   "id": "2aecec9d",
   "metadata": {},
   "outputs": [
    {
     "data": {
      "text/html": [
       "<div>\n",
       "<style scoped>\n",
       "    .dataframe tbody tr th:only-of-type {\n",
       "        vertical-align: middle;\n",
       "    }\n",
       "\n",
       "    .dataframe tbody tr th {\n",
       "        vertical-align: top;\n",
       "    }\n",
       "\n",
       "    .dataframe thead th {\n",
       "        text-align: right;\n",
       "    }\n",
       "</style>\n",
       "<table border=\"1\" class=\"dataframe\">\n",
       "  <thead>\n",
       "    <tr style=\"text-align: right;\">\n",
       "      <th></th>\n",
       "      <th>rolling_volatility</th>\n",
       "    </tr>\n",
       "    <tr>\n",
       "      <th>date</th>\n",
       "      <th></th>\n",
       "    </tr>\n",
       "  </thead>\n",
       "  <tbody>\n",
       "    <tr>\n",
       "      <th>1999-12-01</th>\n",
       "      <td>2.524261</td>\n",
       "    </tr>\n",
       "    <tr>\n",
       "      <th>1999-12-02</th>\n",
       "      <td>2.483744</td>\n",
       "    </tr>\n",
       "    <tr>\n",
       "      <th>1999-12-03</th>\n",
       "      <td>2.752959</td>\n",
       "    </tr>\n",
       "    <tr>\n",
       "      <th>1999-12-06</th>\n",
       "      <td>2.671188</td>\n",
       "    </tr>\n",
       "    <tr>\n",
       "      <th>1999-12-07</th>\n",
       "      <td>2.610349</td>\n",
       "    </tr>\n",
       "  </tbody>\n",
       "</table>\n",
       "</div>"
      ],
      "text/plain": [
       "            rolling_volatility\n",
       "date                          \n",
       "1999-12-01            2.524261\n",
       "1999-12-02            2.483744\n",
       "1999-12-03            2.752959\n",
       "1999-12-06            2.671188\n",
       "1999-12-07            2.610349"
      ]
     },
     "execution_count": 64,
     "metadata": {},
     "output_type": "execute_result"
    }
   ],
   "source": [
    "y.head()"
   ]
  },
  {
   "cell_type": "code",
   "execution_count": 54,
   "id": "de16af91",
   "metadata": {},
   "outputs": [],
   "source": [
    "X_train=X[:cut_off]\n",
    "y_train=y[:cut_off]"
   ]
  },
  {
   "cell_type": "code",
   "execution_count": 55,
   "id": "c166b795",
   "metadata": {},
   "outputs": [],
   "source": [
    "X_test=X[cut_off:]\n",
    "y_test=y[cut_off:]"
   ]
  },
  {
   "cell_type": "markdown",
   "id": "54475485",
   "metadata": {},
   "source": [
    "# Reshape Input for LSTM (introduce lag)"
   ]
  },
  {
   "cell_type": "code",
   "execution_count": 59,
   "id": "08c5076a",
   "metadata": {},
   "outputs": [
    {
     "data": {
      "text/plain": [
       "['open', 'high', 'low', 'close', 'volume', 'returns']"
      ]
     },
     "execution_count": 59,
     "metadata": {},
     "output_type": "execute_result"
    }
   ],
   "source": [
    "list(X.columns)"
   ]
  },
  {
   "cell_type": "code",
   "execution_count": 65,
   "id": "f7b8d1dd",
   "metadata": {},
   "outputs": [],
   "source": [
    "# Function to create LSTM dataset\n",
    "def create_lstm_dataset(dataset, time_steps=7):\n",
    "    features = dataset.columns\n",
    "    \n",
    "    # Normalize the features\n",
    "    scaler = MinMaxScaler()\n",
    "    scaled_data = scaler.fit_transform(dataset[features])\n",
    "    \n",
    "    X, y = [], []\n",
    "    \n",
    "    # Create sliding window\n",
    "    for i in range(len(scaled_data) - time_steps):\n",
    "        # X: Input sequence of time_steps\n",
    "        X.append(scaled_data[i:i+time_steps])\n",
    "        \n",
    "        # y: Next time step's closing price\n",
    "        y.append(scaled_data[i+time_steps][-1])  # Predicting the next close price\n",
    "    \n",
    "    return np.array(X), np.array(y), scaler"
   ]
  },
  {
   "cell_type": "code",
   "execution_count": 66,
   "id": "5b61ce62",
   "metadata": {},
   "outputs": [],
   "source": [
    "# Generate training data\n",
    "time_steps = 7\n",
    "X_train, y_train, scaler = create_lstm_dataset(X, time_steps=time_steps)"
   ]
  },
  {
   "cell_type": "code",
   "execution_count": 68,
   "id": "1bd1abba",
   "metadata": {},
   "outputs": [
    {
     "data": {
      "text/plain": [
       "6"
      ]
     },
     "execution_count": 68,
     "metadata": {},
     "output_type": "execute_result"
    }
   ],
   "source": [
    "# Get the number of features\n",
    "data_dim = X_train.shape[2]\n",
    "data_dim"
   ]
  },
  {
   "cell_type": "code",
   "execution_count": 69,
   "id": "a5b3b032",
   "metadata": {},
   "outputs": [],
   "source": [
    "# Build the LSTM model\n",
    "model = Sequential([\n",
    "    LSTM(units=50, input_shape=(time_steps, data_dim)),\n",
    "    Dense(units=1)\n",
    "])"
   ]
  },
  {
   "cell_type": "code",
   "execution_count": 70,
   "id": "19f23e74",
   "metadata": {},
   "outputs": [],
   "source": [
    "# Compile the model\n",
    "model.compile(optimizer='adam', loss='mean_squared_error')"
   ]
  },
  {
   "cell_type": "code",
   "execution_count": 71,
   "id": "16ef6195",
   "metadata": {},
   "outputs": [
    {
     "name": "stdout",
     "output_type": "stream",
     "text": [
      "Epoch 1/100\n",
      "\u001b[1m157/157\u001b[0m \u001b[32m━━━━━━━━━━━━━━━━━━━━\u001b[0m\u001b[37m\u001b[0m \u001b[1m1s\u001b[0m 2ms/step - loss: 0.0722 - val_loss: 0.0039\n",
      "Epoch 2/100\n",
      "\u001b[1m157/157\u001b[0m \u001b[32m━━━━━━━━━━━━━━━━━━━━\u001b[0m\u001b[37m\u001b[0m \u001b[1m0s\u001b[0m 1ms/step - loss: 0.0037 - val_loss: 0.0038\n",
      "Epoch 3/100\n",
      "\u001b[1m157/157\u001b[0m \u001b[32m━━━━━━━━━━━━━━━━━━━━\u001b[0m\u001b[37m\u001b[0m \u001b[1m0s\u001b[0m 1ms/step - loss: 0.0035 - val_loss: 0.0037\n",
      "Epoch 4/100\n",
      "\u001b[1m157/157\u001b[0m \u001b[32m━━━━━━━━━━━━━━━━━━━━\u001b[0m\u001b[37m\u001b[0m \u001b[1m0s\u001b[0m 1ms/step - loss: 0.0035 - val_loss: 0.0037\n",
      "Epoch 5/100\n",
      "\u001b[1m157/157\u001b[0m \u001b[32m━━━━━━━━━━━━━━━━━━━━\u001b[0m\u001b[37m\u001b[0m \u001b[1m0s\u001b[0m 1ms/step - loss: 0.0033 - val_loss: 0.0037\n",
      "Epoch 6/100\n",
      "\u001b[1m157/157\u001b[0m \u001b[32m━━━━━━━━━━━━━━━━━━━━\u001b[0m\u001b[37m\u001b[0m \u001b[1m0s\u001b[0m 1ms/step - loss: 0.0035 - val_loss: 0.0037\n",
      "Epoch 7/100\n",
      "\u001b[1m157/157\u001b[0m \u001b[32m━━━━━━━━━━━━━━━━━━━━\u001b[0m\u001b[37m\u001b[0m \u001b[1m0s\u001b[0m 1ms/step - loss: 0.0037 - val_loss: 0.0038\n",
      "Epoch 8/100\n",
      "\u001b[1m157/157\u001b[0m \u001b[32m━━━━━━━━━━━━━━━━━━━━\u001b[0m\u001b[37m\u001b[0m \u001b[1m0s\u001b[0m 1ms/step - loss: 0.0034 - val_loss: 0.0037\n",
      "Epoch 9/100\n",
      "\u001b[1m157/157\u001b[0m \u001b[32m━━━━━━━━━━━━━━━━━━━━\u001b[0m\u001b[37m\u001b[0m \u001b[1m0s\u001b[0m 1ms/step - loss: 0.0034 - val_loss: 0.0036\n",
      "Epoch 10/100\n",
      "\u001b[1m157/157\u001b[0m \u001b[32m━━━━━━━━━━━━━━━━━━━━\u001b[0m\u001b[37m\u001b[0m \u001b[1m0s\u001b[0m 1ms/step - loss: 0.0034 - val_loss: 0.0036\n",
      "Epoch 11/100\n",
      "\u001b[1m157/157\u001b[0m \u001b[32m━━━━━━━━━━━━━━━━━━━━\u001b[0m\u001b[37m\u001b[0m \u001b[1m0s\u001b[0m 1ms/step - loss: 0.0033 - val_loss: 0.0036\n",
      "Epoch 12/100\n",
      "\u001b[1m157/157\u001b[0m \u001b[32m━━━━━━━━━━━━━━━━━━━━\u001b[0m\u001b[37m\u001b[0m \u001b[1m0s\u001b[0m 1ms/step - loss: 0.0034 - val_loss: 0.0036\n",
      "Epoch 13/100\n",
      "\u001b[1m157/157\u001b[0m \u001b[32m━━━━━━━━━━━━━━━━━━━━\u001b[0m\u001b[37m\u001b[0m \u001b[1m0s\u001b[0m 1ms/step - loss: 0.0033 - val_loss: 0.0039\n",
      "Epoch 14/100\n",
      "\u001b[1m157/157\u001b[0m \u001b[32m━━━━━━━━━━━━━━━━━━━━\u001b[0m\u001b[37m\u001b[0m \u001b[1m0s\u001b[0m 1ms/step - loss: 0.0034 - val_loss: 0.0036\n",
      "Epoch 15/100\n",
      "\u001b[1m157/157\u001b[0m \u001b[32m━━━━━━━━━━━━━━━━━━━━\u001b[0m\u001b[37m\u001b[0m \u001b[1m0s\u001b[0m 1ms/step - loss: 0.0038 - val_loss: 0.0036\n",
      "Epoch 16/100\n",
      "\u001b[1m157/157\u001b[0m \u001b[32m━━━━━━━━━━━━━━━━━━━━\u001b[0m\u001b[37m\u001b[0m \u001b[1m0s\u001b[0m 1ms/step - loss: 0.0035 - val_loss: 0.0036\n",
      "Epoch 17/100\n",
      "\u001b[1m157/157\u001b[0m \u001b[32m━━━━━━━━━━━━━━━━━━━━\u001b[0m\u001b[37m\u001b[0m \u001b[1m0s\u001b[0m 1ms/step - loss: 0.0035 - val_loss: 0.0036\n",
      "Epoch 18/100\n",
      "\u001b[1m157/157\u001b[0m \u001b[32m━━━━━━━━━━━━━━━━━━━━\u001b[0m\u001b[37m\u001b[0m \u001b[1m0s\u001b[0m 1ms/step - loss: 0.0035 - val_loss: 0.0037\n",
      "Epoch 19/100\n",
      "\u001b[1m157/157\u001b[0m \u001b[32m━━━━━━━━━━━━━━━━━━━━\u001b[0m\u001b[37m\u001b[0m \u001b[1m0s\u001b[0m 1ms/step - loss: 0.0035 - val_loss: 0.0038\n",
      "Epoch 20/100\n",
      "\u001b[1m157/157\u001b[0m \u001b[32m━━━━━━━━━━━━━━━━━━━━\u001b[0m\u001b[37m\u001b[0m \u001b[1m0s\u001b[0m 1ms/step - loss: 0.0034 - val_loss: 0.0036\n",
      "Epoch 21/100\n",
      "\u001b[1m157/157\u001b[0m \u001b[32m━━━━━━━━━━━━━━━━━━━━\u001b[0m\u001b[37m\u001b[0m \u001b[1m0s\u001b[0m 1ms/step - loss: 0.0036 - val_loss: 0.0037\n",
      "Epoch 22/100\n",
      "\u001b[1m157/157\u001b[0m \u001b[32m━━━━━━━━━━━━━━━━━━━━\u001b[0m\u001b[37m\u001b[0m \u001b[1m0s\u001b[0m 1ms/step - loss: 0.0035 - val_loss: 0.0036\n",
      "Epoch 23/100\n",
      "\u001b[1m157/157\u001b[0m \u001b[32m━━━━━━━━━━━━━━━━━━━━\u001b[0m\u001b[37m\u001b[0m \u001b[1m0s\u001b[0m 1ms/step - loss: 0.0033 - val_loss: 0.0037\n",
      "Epoch 24/100\n",
      "\u001b[1m157/157\u001b[0m \u001b[32m━━━━━━━━━━━━━━━━━━━━\u001b[0m\u001b[37m\u001b[0m \u001b[1m0s\u001b[0m 1ms/step - loss: 0.0033 - val_loss: 0.0036\n",
      "Epoch 25/100\n",
      "\u001b[1m157/157\u001b[0m \u001b[32m━━━━━━━━━━━━━━━━━━━━\u001b[0m\u001b[37m\u001b[0m \u001b[1m0s\u001b[0m 1ms/step - loss: 0.0033 - val_loss: 0.0039\n",
      "Epoch 26/100\n",
      "\u001b[1m157/157\u001b[0m \u001b[32m━━━━━━━━━━━━━━━━━━━━\u001b[0m\u001b[37m\u001b[0m \u001b[1m0s\u001b[0m 1ms/step - loss: 0.0035 - val_loss: 0.0036\n",
      "Epoch 27/100\n",
      "\u001b[1m157/157\u001b[0m \u001b[32m━━━━━━━━━━━━━━━━━━━━\u001b[0m\u001b[37m\u001b[0m \u001b[1m0s\u001b[0m 1ms/step - loss: 0.0034 - val_loss: 0.0037\n",
      "Epoch 28/100\n",
      "\u001b[1m157/157\u001b[0m \u001b[32m━━━━━━━━━━━━━━━━━━━━\u001b[0m\u001b[37m\u001b[0m \u001b[1m0s\u001b[0m 1ms/step - loss: 0.0031 - val_loss: 0.0036\n",
      "Epoch 29/100\n",
      "\u001b[1m157/157\u001b[0m \u001b[32m━━━━━━━━━━━━━━━━━━━━\u001b[0m\u001b[37m\u001b[0m \u001b[1m0s\u001b[0m 1ms/step - loss: 0.0032 - val_loss: 0.0036\n",
      "Epoch 30/100\n",
      "\u001b[1m157/157\u001b[0m \u001b[32m━━━━━━━━━━━━━━━━━━━━\u001b[0m\u001b[37m\u001b[0m \u001b[1m0s\u001b[0m 1ms/step - loss: 0.0033 - val_loss: 0.0036\n",
      "Epoch 31/100\n",
      "\u001b[1m157/157\u001b[0m \u001b[32m━━━━━━━━━━━━━━━━━━━━\u001b[0m\u001b[37m\u001b[0m \u001b[1m0s\u001b[0m 1ms/step - loss: 0.0033 - val_loss: 0.0039\n",
      "Epoch 32/100\n",
      "\u001b[1m157/157\u001b[0m \u001b[32m━━━━━━━━━━━━━━━━━━━━\u001b[0m\u001b[37m\u001b[0m \u001b[1m0s\u001b[0m 1ms/step - loss: 0.0034 - val_loss: 0.0036\n",
      "Epoch 33/100\n",
      "\u001b[1m157/157\u001b[0m \u001b[32m━━━━━━━━━━━━━━━━━━━━\u001b[0m\u001b[37m\u001b[0m \u001b[1m0s\u001b[0m 1ms/step - loss: 0.0033 - val_loss: 0.0036\n",
      "Epoch 34/100\n",
      "\u001b[1m157/157\u001b[0m \u001b[32m━━━━━━━━━━━━━━━━━━━━\u001b[0m\u001b[37m\u001b[0m \u001b[1m0s\u001b[0m 1ms/step - loss: 0.0034 - val_loss: 0.0037\n",
      "Epoch 35/100\n",
      "\u001b[1m157/157\u001b[0m \u001b[32m━━━━━━━━━━━━━━━━━━━━\u001b[0m\u001b[37m\u001b[0m \u001b[1m0s\u001b[0m 1ms/step - loss: 0.0033 - val_loss: 0.0036\n",
      "Epoch 36/100\n",
      "\u001b[1m157/157\u001b[0m \u001b[32m━━━━━━━━━━━━━━━━━━━━\u001b[0m\u001b[37m\u001b[0m \u001b[1m0s\u001b[0m 1ms/step - loss: 0.0036 - val_loss: 0.0037\n",
      "Epoch 37/100\n",
      "\u001b[1m157/157\u001b[0m \u001b[32m━━━━━━━━━━━━━━━━━━━━\u001b[0m\u001b[37m\u001b[0m \u001b[1m0s\u001b[0m 1ms/step - loss: 0.0034 - val_loss: 0.0037\n",
      "Epoch 38/100\n",
      "\u001b[1m157/157\u001b[0m \u001b[32m━━━━━━━━━━━━━━━━━━━━\u001b[0m\u001b[37m\u001b[0m \u001b[1m0s\u001b[0m 1ms/step - loss: 0.0032 - val_loss: 0.0036\n",
      "Epoch 39/100\n",
      "\u001b[1m157/157\u001b[0m \u001b[32m━━━━━━━━━━━━━━━━━━━━\u001b[0m\u001b[37m\u001b[0m \u001b[1m0s\u001b[0m 1ms/step - loss: 0.0034 - val_loss: 0.0036\n",
      "Epoch 40/100\n",
      "\u001b[1m157/157\u001b[0m \u001b[32m━━━━━━━━━━━━━━━━━━━━\u001b[0m\u001b[37m\u001b[0m \u001b[1m0s\u001b[0m 1ms/step - loss: 0.0033 - val_loss: 0.0042\n",
      "Epoch 41/100\n",
      "\u001b[1m157/157\u001b[0m \u001b[32m━━━━━━━━━━━━━━━━━━━━\u001b[0m\u001b[37m\u001b[0m \u001b[1m0s\u001b[0m 1ms/step - loss: 0.0034 - val_loss: 0.0036\n",
      "Epoch 42/100\n",
      "\u001b[1m157/157\u001b[0m \u001b[32m━━━━━━━━━━━━━━━━━━━━\u001b[0m\u001b[37m\u001b[0m \u001b[1m0s\u001b[0m 1ms/step - loss: 0.0032 - val_loss: 0.0040\n",
      "Epoch 43/100\n",
      "\u001b[1m157/157\u001b[0m \u001b[32m━━━━━━━━━━━━━━━━━━━━\u001b[0m\u001b[37m\u001b[0m \u001b[1m0s\u001b[0m 1ms/step - loss: 0.0035 - val_loss: 0.0037\n",
      "Epoch 44/100\n",
      "\u001b[1m157/157\u001b[0m \u001b[32m━━━━━━━━━━━━━━━━━━━━\u001b[0m\u001b[37m\u001b[0m \u001b[1m0s\u001b[0m 1ms/step - loss: 0.0035 - val_loss: 0.0037\n",
      "Epoch 45/100\n",
      "\u001b[1m157/157\u001b[0m \u001b[32m━━━━━━━━━━━━━━━━━━━━\u001b[0m\u001b[37m\u001b[0m \u001b[1m0s\u001b[0m 1ms/step - loss: 0.0034 - val_loss: 0.0036\n",
      "Epoch 46/100\n",
      "\u001b[1m157/157\u001b[0m \u001b[32m━━━━━━━━━━━━━━━━━━━━\u001b[0m\u001b[37m\u001b[0m \u001b[1m0s\u001b[0m 1ms/step - loss: 0.0033 - val_loss: 0.0037\n",
      "Epoch 47/100\n",
      "\u001b[1m157/157\u001b[0m \u001b[32m━━━━━━━━━━━━━━━━━━━━\u001b[0m\u001b[37m\u001b[0m \u001b[1m0s\u001b[0m 1ms/step - loss: 0.0032 - val_loss: 0.0037\n",
      "Epoch 48/100\n",
      "\u001b[1m157/157\u001b[0m \u001b[32m━━━━━━━━━━━━━━━━━━━━\u001b[0m\u001b[37m\u001b[0m \u001b[1m0s\u001b[0m 1ms/step - loss: 0.0033 - val_loss: 0.0036\n",
      "Epoch 49/100\n",
      "\u001b[1m157/157\u001b[0m \u001b[32m━━━━━━━━━━━━━━━━━━━━\u001b[0m\u001b[37m\u001b[0m \u001b[1m0s\u001b[0m 1ms/step - loss: 0.0032 - val_loss: 0.0036\n",
      "Epoch 50/100\n",
      "\u001b[1m157/157\u001b[0m \u001b[32m━━━━━━━━━━━━━━━━━━━━\u001b[0m\u001b[37m\u001b[0m \u001b[1m0s\u001b[0m 1ms/step - loss: 0.0035 - val_loss: 0.0036\n",
      "Epoch 51/100\n",
      "\u001b[1m157/157\u001b[0m \u001b[32m━━━━━━━━━━━━━━━━━━━━\u001b[0m\u001b[37m\u001b[0m \u001b[1m0s\u001b[0m 1ms/step - loss: 0.0032 - val_loss: 0.0039\n",
      "Epoch 52/100\n",
      "\u001b[1m157/157\u001b[0m \u001b[32m━━━━━━━━━━━━━━━━━━━━\u001b[0m\u001b[37m\u001b[0m \u001b[1m0s\u001b[0m 1ms/step - loss: 0.0035 - val_loss: 0.0036\n",
      "Epoch 53/100\n",
      "\u001b[1m157/157\u001b[0m \u001b[32m━━━━━━━━━━━━━━━━━━━━\u001b[0m\u001b[37m\u001b[0m \u001b[1m0s\u001b[0m 1ms/step - loss: 0.0033 - val_loss: 0.0036\n",
      "Epoch 54/100\n",
      "\u001b[1m157/157\u001b[0m \u001b[32m━━━━━━━━━━━━━━━━━━━━\u001b[0m\u001b[37m\u001b[0m \u001b[1m0s\u001b[0m 1ms/step - loss: 0.0034 - val_loss: 0.0036\n",
      "Epoch 55/100\n",
      "\u001b[1m157/157\u001b[0m \u001b[32m━━━━━━━━━━━━━━━━━━━━\u001b[0m\u001b[37m\u001b[0m \u001b[1m0s\u001b[0m 1ms/step - loss: 0.0033 - val_loss: 0.0036\n",
      "Epoch 56/100\n",
      "\u001b[1m157/157\u001b[0m \u001b[32m━━━━━━━━━━━━━━━━━━━━\u001b[0m\u001b[37m\u001b[0m \u001b[1m0s\u001b[0m 1ms/step - loss: 0.0032 - val_loss: 0.0036\n",
      "Epoch 57/100\n",
      "\u001b[1m157/157\u001b[0m \u001b[32m━━━━━━━━━━━━━━━━━━━━\u001b[0m\u001b[37m\u001b[0m \u001b[1m0s\u001b[0m 1ms/step - loss: 0.0034 - val_loss: 0.0036\n",
      "Epoch 58/100\n",
      "\u001b[1m157/157\u001b[0m \u001b[32m━━━━━━━━━━━━━━━━━━━━\u001b[0m\u001b[37m\u001b[0m \u001b[1m0s\u001b[0m 1ms/step - loss: 0.0034 - val_loss: 0.0037\n",
      "Epoch 59/100\n",
      "\u001b[1m157/157\u001b[0m \u001b[32m━━━━━━━━━━━━━━━━━━━━\u001b[0m\u001b[37m\u001b[0m \u001b[1m0s\u001b[0m 1ms/step - loss: 0.0034 - val_loss: 0.0036\n",
      "Epoch 60/100\n",
      "\u001b[1m157/157\u001b[0m \u001b[32m━━━━━━━━━━━━━━━━━━━━\u001b[0m\u001b[37m\u001b[0m \u001b[1m0s\u001b[0m 1ms/step - loss: 0.0035 - val_loss: 0.0036\n",
      "Epoch 61/100\n",
      "\u001b[1m157/157\u001b[0m \u001b[32m━━━━━━━━━━━━━━━━━━━━\u001b[0m\u001b[37m\u001b[0m \u001b[1m0s\u001b[0m 1ms/step - loss: 0.0034 - val_loss: 0.0038\n",
      "Epoch 62/100\n",
      "\u001b[1m157/157\u001b[0m \u001b[32m━━━━━━━━━━━━━━━━━━━━\u001b[0m\u001b[37m\u001b[0m \u001b[1m0s\u001b[0m 1ms/step - loss: 0.0037 - val_loss: 0.0037\n",
      "Epoch 63/100\n",
      "\u001b[1m157/157\u001b[0m \u001b[32m━━━━━━━━━━━━━━━━━━━━\u001b[0m\u001b[37m\u001b[0m \u001b[1m0s\u001b[0m 1ms/step - loss: 0.0032 - val_loss: 0.0036\n",
      "Epoch 64/100\n",
      "\u001b[1m157/157\u001b[0m \u001b[32m━━━━━━━━━━━━━━━━━━━━\u001b[0m\u001b[37m\u001b[0m \u001b[1m0s\u001b[0m 1ms/step - loss: 0.0034 - val_loss: 0.0036\n",
      "Epoch 65/100\n",
      "\u001b[1m157/157\u001b[0m \u001b[32m━━━━━━━━━━━━━━━━━━━━\u001b[0m\u001b[37m\u001b[0m \u001b[1m0s\u001b[0m 1ms/step - loss: 0.0031 - val_loss: 0.0037\n",
      "Epoch 66/100\n",
      "\u001b[1m157/157\u001b[0m \u001b[32m━━━━━━━━━━━━━━━━━━━━\u001b[0m\u001b[37m\u001b[0m \u001b[1m0s\u001b[0m 1ms/step - loss: 0.0031 - val_loss: 0.0038\n",
      "Epoch 67/100\n",
      "\u001b[1m157/157\u001b[0m \u001b[32m━━━━━━━━━━━━━━━━━━━━\u001b[0m\u001b[37m\u001b[0m \u001b[1m0s\u001b[0m 1ms/step - loss: 0.0034 - val_loss: 0.0036\n",
      "Epoch 68/100\n"
     ]
    },
    {
     "name": "stdout",
     "output_type": "stream",
     "text": [
      "\u001b[1m157/157\u001b[0m \u001b[32m━━━━━━━━━━━━━━━━━━━━\u001b[0m\u001b[37m\u001b[0m \u001b[1m0s\u001b[0m 1ms/step - loss: 0.0030 - val_loss: 0.0037\n",
      "Epoch 69/100\n",
      "\u001b[1m157/157\u001b[0m \u001b[32m━━━━━━━━━━━━━━━━━━━━\u001b[0m\u001b[37m\u001b[0m \u001b[1m0s\u001b[0m 1ms/step - loss: 0.0032 - val_loss: 0.0037\n",
      "Epoch 70/100\n",
      "\u001b[1m157/157\u001b[0m \u001b[32m━━━━━━━━━━━━━━━━━━━━\u001b[0m\u001b[37m\u001b[0m \u001b[1m0s\u001b[0m 1ms/step - loss: 0.0031 - val_loss: 0.0037\n",
      "Epoch 71/100\n",
      "\u001b[1m157/157\u001b[0m \u001b[32m━━━━━━━━━━━━━━━━━━━━\u001b[0m\u001b[37m\u001b[0m \u001b[1m0s\u001b[0m 1ms/step - loss: 0.0035 - val_loss: 0.0036\n",
      "Epoch 72/100\n",
      "\u001b[1m157/157\u001b[0m \u001b[32m━━━━━━━━━━━━━━━━━━━━\u001b[0m\u001b[37m\u001b[0m \u001b[1m0s\u001b[0m 1ms/step - loss: 0.0034 - val_loss: 0.0036\n",
      "Epoch 73/100\n",
      "\u001b[1m157/157\u001b[0m \u001b[32m━━━━━━━━━━━━━━━━━━━━\u001b[0m\u001b[37m\u001b[0m \u001b[1m0s\u001b[0m 1ms/step - loss: 0.0033 - val_loss: 0.0038\n",
      "Epoch 74/100\n",
      "\u001b[1m157/157\u001b[0m \u001b[32m━━━━━━━━━━━━━━━━━━━━\u001b[0m\u001b[37m\u001b[0m \u001b[1m0s\u001b[0m 1ms/step - loss: 0.0034 - val_loss: 0.0037\n",
      "Epoch 75/100\n",
      "\u001b[1m157/157\u001b[0m \u001b[32m━━━━━━━━━━━━━━━━━━━━\u001b[0m\u001b[37m\u001b[0m \u001b[1m0s\u001b[0m 1ms/step - loss: 0.0032 - val_loss: 0.0039\n",
      "Epoch 76/100\n",
      "\u001b[1m157/157\u001b[0m \u001b[32m━━━━━━━━━━━━━━━━━━━━\u001b[0m\u001b[37m\u001b[0m \u001b[1m0s\u001b[0m 1ms/step - loss: 0.0032 - val_loss: 0.0037\n",
      "Epoch 77/100\n",
      "\u001b[1m157/157\u001b[0m \u001b[32m━━━━━━━━━━━━━━━━━━━━\u001b[0m\u001b[37m\u001b[0m \u001b[1m0s\u001b[0m 1ms/step - loss: 0.0031 - val_loss: 0.0036\n",
      "Epoch 78/100\n",
      "\u001b[1m157/157\u001b[0m \u001b[32m━━━━━━━━━━━━━━━━━━━━\u001b[0m\u001b[37m\u001b[0m \u001b[1m0s\u001b[0m 1ms/step - loss: 0.0033 - val_loss: 0.0036\n",
      "Epoch 79/100\n",
      "\u001b[1m157/157\u001b[0m \u001b[32m━━━━━━━━━━━━━━━━━━━━\u001b[0m\u001b[37m\u001b[0m \u001b[1m0s\u001b[0m 1ms/step - loss: 0.0035 - val_loss: 0.0036\n",
      "Epoch 80/100\n",
      "\u001b[1m157/157\u001b[0m \u001b[32m━━━━━━━━━━━━━━━━━━━━\u001b[0m\u001b[37m\u001b[0m \u001b[1m0s\u001b[0m 1ms/step - loss: 0.0030 - val_loss: 0.0037\n",
      "Epoch 81/100\n",
      "\u001b[1m157/157\u001b[0m \u001b[32m━━━━━━━━━━━━━━━━━━━━\u001b[0m\u001b[37m\u001b[0m \u001b[1m0s\u001b[0m 1ms/step - loss: 0.0033 - val_loss: 0.0036\n",
      "Epoch 82/100\n",
      "\u001b[1m157/157\u001b[0m \u001b[32m━━━━━━━━━━━━━━━━━━━━\u001b[0m\u001b[37m\u001b[0m \u001b[1m0s\u001b[0m 1ms/step - loss: 0.0032 - val_loss: 0.0036\n",
      "Epoch 83/100\n",
      "\u001b[1m157/157\u001b[0m \u001b[32m━━━━━━━━━━━━━━━━━━━━\u001b[0m\u001b[37m\u001b[0m \u001b[1m0s\u001b[0m 1ms/step - loss: 0.0033 - val_loss: 0.0037\n",
      "Epoch 84/100\n",
      "\u001b[1m157/157\u001b[0m \u001b[32m━━━━━━━━━━━━━━━━━━━━\u001b[0m\u001b[37m\u001b[0m \u001b[1m0s\u001b[0m 1ms/step - loss: 0.0034 - val_loss: 0.0036\n",
      "Epoch 85/100\n",
      "\u001b[1m157/157\u001b[0m \u001b[32m━━━━━━━━━━━━━━━━━━━━\u001b[0m\u001b[37m\u001b[0m \u001b[1m0s\u001b[0m 1ms/step - loss: 0.0033 - val_loss: 0.0036\n",
      "Epoch 86/100\n",
      "\u001b[1m157/157\u001b[0m \u001b[32m━━━━━━━━━━━━━━━━━━━━\u001b[0m\u001b[37m\u001b[0m \u001b[1m0s\u001b[0m 1ms/step - loss: 0.0034 - val_loss: 0.0036\n",
      "Epoch 87/100\n",
      "\u001b[1m157/157\u001b[0m \u001b[32m━━━━━━━━━━━━━━━━━━━━\u001b[0m\u001b[37m\u001b[0m \u001b[1m0s\u001b[0m 1ms/step - loss: 0.0034 - val_loss: 0.0036\n",
      "Epoch 88/100\n",
      "\u001b[1m157/157\u001b[0m \u001b[32m━━━━━━━━━━━━━━━━━━━━\u001b[0m\u001b[37m\u001b[0m \u001b[1m0s\u001b[0m 1ms/step - loss: 0.0032 - val_loss: 0.0036\n",
      "Epoch 89/100\n",
      "\u001b[1m157/157\u001b[0m \u001b[32m━━━━━━━━━━━━━━━━━━━━\u001b[0m\u001b[37m\u001b[0m \u001b[1m0s\u001b[0m 1ms/step - loss: 0.0033 - val_loss: 0.0036\n",
      "Epoch 90/100\n",
      "\u001b[1m157/157\u001b[0m \u001b[32m━━━━━━━━━━━━━━━━━━━━\u001b[0m\u001b[37m\u001b[0m \u001b[1m0s\u001b[0m 1ms/step - loss: 0.0035 - val_loss: 0.0036\n",
      "Epoch 91/100\n",
      "\u001b[1m157/157\u001b[0m \u001b[32m━━━━━━━━━━━━━━━━━━━━\u001b[0m\u001b[37m\u001b[0m \u001b[1m0s\u001b[0m 1ms/step - loss: 0.0034 - val_loss: 0.0036\n",
      "Epoch 92/100\n",
      "\u001b[1m157/157\u001b[0m \u001b[32m━━━━━━━━━━━━━━━━━━━━\u001b[0m\u001b[37m\u001b[0m \u001b[1m0s\u001b[0m 1ms/step - loss: 0.0033 - val_loss: 0.0036\n",
      "Epoch 93/100\n",
      "\u001b[1m157/157\u001b[0m \u001b[32m━━━━━━━━━━━━━━━━━━━━\u001b[0m\u001b[37m\u001b[0m \u001b[1m0s\u001b[0m 1ms/step - loss: 0.0033 - val_loss: 0.0038\n",
      "Epoch 94/100\n",
      "\u001b[1m157/157\u001b[0m \u001b[32m━━━━━━━━━━━━━━━━━━━━\u001b[0m\u001b[37m\u001b[0m \u001b[1m0s\u001b[0m 1ms/step - loss: 0.0036 - val_loss: 0.0036\n",
      "Epoch 95/100\n",
      "\u001b[1m157/157\u001b[0m \u001b[32m━━━━━━━━━━━━━━━━━━━━\u001b[0m\u001b[37m\u001b[0m \u001b[1m0s\u001b[0m 1ms/step - loss: 0.0033 - val_loss: 0.0036\n",
      "Epoch 96/100\n",
      "\u001b[1m157/157\u001b[0m \u001b[32m━━━━━━━━━━━━━━━━━━━━\u001b[0m\u001b[37m\u001b[0m \u001b[1m0s\u001b[0m 1ms/step - loss: 0.0032 - val_loss: 0.0037\n",
      "Epoch 97/100\n",
      "\u001b[1m157/157\u001b[0m \u001b[32m━━━━━━━━━━━━━━━━━━━━\u001b[0m\u001b[37m\u001b[0m \u001b[1m0s\u001b[0m 1ms/step - loss: 0.0034 - val_loss: 0.0036\n",
      "Epoch 98/100\n",
      "\u001b[1m157/157\u001b[0m \u001b[32m━━━━━━━━━━━━━━━━━━━━\u001b[0m\u001b[37m\u001b[0m \u001b[1m0s\u001b[0m 1ms/step - loss: 0.0032 - val_loss: 0.0037\n",
      "Epoch 99/100\n",
      "\u001b[1m157/157\u001b[0m \u001b[32m━━━━━━━━━━━━━━━━━━━━\u001b[0m\u001b[37m\u001b[0m \u001b[1m0s\u001b[0m 1ms/step - loss: 0.0031 - val_loss: 0.0036\n",
      "Epoch 100/100\n",
      "\u001b[1m157/157\u001b[0m \u001b[32m━━━━━━━━━━━━━━━━━━━━\u001b[0m\u001b[37m\u001b[0m \u001b[1m0s\u001b[0m 1ms/step - loss: 0.0031 - val_loss: 0.0036\n"
     ]
    }
   ],
   "source": [
    "# Train the model\n",
    "history = model.fit(\n",
    "    X_train, y_train, \n",
    "    epochs=100, \n",
    "    batch_size=32, \n",
    "    validation_split=0.2,  # Optional: use 20% of data for validation\n",
    "    verbose=1\n",
    ")"
   ]
  },
  {
   "cell_type": "code",
   "execution_count": 72,
   "id": "725b5c13",
   "metadata": {},
   "outputs": [
    {
     "data": {
      "image/png": "[encoded data removed]",
      "text/plain": [
       "<Figure size 1000x500 with 1 Axes>"
      ]
     },
     "metadata": {},
     "output_type": "display_data"
    }
   ],
   "source": [
    "# Optional: Plot training history\n",
    "import matplotlib.pyplot as plt\n",
    "\n",
    "plt.figure(figsize=(10,5))\n",
    "plt.plot(history.history['loss'], label='Training Loss')\n",
    "plt.plot(history.history['val_loss'], label='Validation Loss')\n",
    "plt.title('Model Loss')\n",
    "plt.xlabel('Epoch')\n",
    "plt.ylabel('Loss')\n",
    "plt.legend()\n",
    "plt.show()"
   ]
  },
  {
   "cell_type": "code",
   "execution_count": 80,
   "id": "e7775257",
   "metadata": {},
   "outputs": [
    {
     "data": {
      "text/plain": [
       "dict_keys(['loss', 'val_loss'])"
      ]
     },
     "execution_count": 80,
     "metadata": {},
     "output_type": "execute_result"
    }
   ],
   "source": [
    "history.history.keys()"
   ]
  },
  {
   "cell_type": "code",
   "execution_count": 83,
   "id": "7267bb8e",
   "metadata": {},
   "outputs": [
    {
     "data": {
      "text/html": [
       "<pre style=\"white-space:pre;overflow-x:auto;line-height:normal;font-family:Menlo,'DejaVu Sans Mono',consolas,'Courier New',monospace\"><span style=\"font-weight: bold\">Model: \"sequential\"</span>\n",
       "</pre>\n"
      ],
      "text/plain": [
       "\u001b[1mModel: \"sequential\"\u001b[0m\n"
      ]
     },
     "metadata": {},
     "output_type": "display_data"
    },
    {
     "data": {
      "text/html": [
       "<pre style=\"white-space:pre;overflow-x:auto;line-height:normal;font-family:Menlo,'DejaVu Sans Mono',consolas,'Courier New',monospace\">┏━━━━━━━━━━━━━━━━━━━━━━━━━━━━━━━━━┳━━━━━━━━━━━━━━━━━━━━━━━━┳━━━━━━━━━━━━━━━┓\n",
       "┃<span style=\"font-weight: bold\"> Layer (type)                    </span>┃<span style=\"font-weight: bold\"> Output Shape           </span>┃<span style=\"font-weight: bold\">       Param # </span>┃\n",
       "┡━━━━━━━━━━━━━━━━━━━━━━━━━━━━━━━━━╇━━━━━━━━━━━━━━━━━━━━━━━━╇━━━━━━━━━━━━━━━┩\n",
       "│ lstm (<span style=\"color: #0087ff; text-decoration-color: #0087ff\">LSTM</span>)                     │ (<span style=\"color: #00d7ff; text-decoration-color: #00d7ff\">None</span>, <span style=\"color: #00af00; text-decoration-color: #00af00\">50</span>)             │        <span style=\"color: #00af00; text-decoration-color: #00af00\">11,400</span> │\n",
       "├─────────────────────────────────┼────────────────────────┼───────────────┤\n",
       "│ dense (<span style=\"color: #0087ff; text-decoration-color: #0087ff\">Dense</span>)                   │ (<span style=\"color: #00d7ff; text-decoration-color: #00d7ff\">None</span>, <span style=\"color: #00af00; text-decoration-color: #00af00\">1</span>)              │            <span style=\"color: #00af00; text-decoration-color: #00af00\">51</span> │\n",
       "└─────────────────────────────────┴────────────────────────┴───────────────┘\n",
       "</pre>\n"
      ],
      "text/plain": [
       "┏━━━━━━━━━━━━━━━━━━━━━━━━━━━━━━━━━┳━━━━━━━━━━━━━━━━━━━━━━━━┳━━━━━━━━━━━━━━━┓\n",
       "┃\u001b[1m \u001b[0m\u001b[1mLayer (type)                   \u001b[0m\u001b[1m \u001b[0m┃\u001b[1m \u001b[0m\u001b[1mOutput Shape          \u001b[0m\u001b[1m \u001b[0m┃\u001b[1m \u001b[0m\u001b[1m      Param #\u001b[0m\u001b[1m \u001b[0m┃\n",
       "┡━━━━━━━━━━━━━━━━━━━━━━━━━━━━━━━━━╇━━━━━━━━━━━━━━━━━━━━━━━━╇━━━━━━━━━━━━━━━┩\n",
       "│ lstm (\u001b[38;5;33mLSTM\u001b[0m)                     │ (\u001b[38;5;45mNone\u001b[0m, \u001b[38;5;34m50\u001b[0m)             │        \u001b[38;5;34m11,400\u001b[0m │\n",
       "├─────────────────────────────────┼────────────────────────┼───────────────┤\n",
       "│ dense (\u001b[38;5;33mDense\u001b[0m)                   │ (\u001b[38;5;45mNone\u001b[0m, \u001b[38;5;34m1\u001b[0m)              │            \u001b[38;5;34m51\u001b[0m │\n",
       "└─────────────────────────────────┴────────────────────────┴───────────────┘\n"
      ]
     },
     "metadata": {},
     "output_type": "display_data"
    },
    {
     "data": {
      "text/html": [
       "<pre style=\"white-space:pre;overflow-x:auto;line-height:normal;font-family:Menlo,'DejaVu Sans Mono',consolas,'Courier New',monospace\"><span style=\"font-weight: bold\"> Total params: </span><span style=\"color: #00af00; text-decoration-color: #00af00\">34,355</span> (134.20 KB)\n",
       "</pre>\n"
      ],
      "text/plain": [
       "\u001b[1m Total params: \u001b[0m\u001b[38;5;34m34,355\u001b[0m (134.20 KB)\n"
      ]
     },
     "metadata": {},
     "output_type": "display_data"
    },
    {
     "data": {
      "text/html": [
       "<pre style=\"white-space:pre;overflow-x:auto;line-height:normal;font-family:Menlo,'DejaVu Sans Mono',consolas,'Courier New',monospace\"><span style=\"font-weight: bold\"> Trainable params: </span><span style=\"color: #00af00; text-decoration-color: #00af00\">11,451</span> (44.73 KB)\n",
       "</pre>\n"
      ],
      "text/plain": [
       "\u001b[1m Trainable params: \u001b[0m\u001b[38;5;34m11,451\u001b[0m (44.73 KB)\n"
      ]
     },
     "metadata": {},
     "output_type": "display_data"
    },
    {
     "data": {
      "text/html": [
       "<pre style=\"white-space:pre;overflow-x:auto;line-height:normal;font-family:Menlo,'DejaVu Sans Mono',consolas,'Courier New',monospace\"><span style=\"font-weight: bold\"> Non-trainable params: </span><span style=\"color: #00af00; text-decoration-color: #00af00\">0</span> (0.00 B)\n",
       "</pre>\n"
      ],
      "text/plain": [
       "\u001b[1m Non-trainable params: \u001b[0m\u001b[38;5;34m0\u001b[0m (0.00 B)\n"
      ]
     },
     "metadata": {},
     "output_type": "display_data"
    },
    {
     "data": {
      "text/html": [
       "<pre style=\"white-space:pre;overflow-x:auto;line-height:normal;font-family:Menlo,'DejaVu Sans Mono',consolas,'Courier New',monospace\"><span style=\"font-weight: bold\"> Optimizer params: </span><span style=\"color: #00af00; text-decoration-color: #00af00\">22,904</span> (89.47 KB)\n",
       "</pre>\n"
      ],
      "text/plain": [
       "\u001b[1m Optimizer params: \u001b[0m\u001b[38;5;34m22,904\u001b[0m (89.47 KB)\n"
      ]
     },
     "metadata": {},
     "output_type": "display_data"
    }
   ],
   "source": [
    "model.summary()"
   ]
  },
  {
   "cell_type": "code",
   "execution_count": null,
   "id": "773251a6",
   "metadata": {},
   "outputs": [],
   "source": []
  }
 ],
 "metadata": {
  "kernelspec": {
   "display_name": "Python 3 (ipykernel)",
   "language": "python",
   "name": "python3"
  },
  "language_info": {
   "codemirror_mode": {
    "name": "ipython",
    "version": 3
   },
   "file_extension": ".py",
   "mimetype": "text/x-python",
   "name": "python",
   "nbconvert_exporter": "python",
   "pygments_lexer": "ipython3",
   "version": "3.11.5"
  }
 },
 "nbformat": 4,
 "nbformat_minor": 5
}
